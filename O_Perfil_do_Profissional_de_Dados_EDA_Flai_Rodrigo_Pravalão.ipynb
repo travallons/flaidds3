{
  "nbformat": 4,
  "nbformat_minor": 0,
  "metadata": {
    "colab": {
      "name": "O Perfil do Profissional de Dados - EDA - Flai - Rodrigo Pravalão.ipynb",
      "provenance": [],
      "collapsed_sections": [],
      "toc_visible": true,
      "authorship_tag": "ABX9TyN0APUbIRP4+4wabRHmh7FO",
      "include_colab_link": true
    },
    "kernelspec": {
      "name": "python3",
      "display_name": "Python 3"
    }
  },
  "cells": [
    {
      "cell_type": "markdown",
      "metadata": {
        "id": "view-in-github",
        "colab_type": "text"
      },
      "source": [
        "<a href=\"https://colab.research.google.com/github/travallons/flaidds3/blob/main/O_Perfil_do_Profissional_de_Dados_EDA_Flai_Rodrigo_Praval%C3%A3o.ipynb\" target=\"_parent\"><img src=\"https://colab.research.google.com/assets/colab-badge.svg\" alt=\"Open In Colab\"/></a>"
      ]
    },
    {
      "cell_type": "markdown",
      "metadata": {
        "id": "G4vod_HE4RdW"
      },
      "source": [
        "# **O Perfil do Profissional de Dados**\n"
      ]
    },
    {
      "cell_type": "markdown",
      "metadata": {
        "id": "6v5ox026wYr_"
      },
      "source": [
        "## **Origem**"
      ]
    },
    {
      "cell_type": "markdown",
      "metadata": {
        "id": "-3Yj0ulJon4e"
      },
      "source": [
        "Pesquisa de mercado de Data Science no Brasil feita pela comunidade Data Hackers. A pesquisa foi conduzida de forma online durante o mês de Novembro de 2019.\n",
        "\n",
        "A pesquisa foi retirada do: https://www.kaggle.com/datahackers/pesquisa-data-hackers-2019"
      ]
    },
    {
      "cell_type": "markdown",
      "metadata": {
        "id": "plpVAPSMwtRG"
      },
      "source": [
        "## **Questões a analisar**"
      ]
    },
    {
      "cell_type": "markdown",
      "metadata": {
        "id": "l3Jaxk8GwoWu"
      },
      "source": [
        "Como forma de trazer informações rápidas e assertivas, dentre as questões levantadas escolhi quatro tópicos que considero como de maior importância:\n",
        "\n",
        "1.   Média Salarial;\n",
        "2.   Tempo de experiência;\n",
        "3.   O porte das empresas em que trabalham;\n",
        "4.   Habilidades;"
      ]
    },
    {
      "cell_type": "markdown",
      "metadata": {
        "id": "6I9R1zRIw9B-"
      },
      "source": [
        "## **Metodologia**"
      ]
    },
    {
      "cell_type": "markdown",
      "metadata": {
        "id": "hJKFhoP2xApm"
      },
      "source": [
        "Será realizado a Análise Exploratória dos Dados ou EDA (Exploratory Data Analysis) utilizando a biblioteca Pandas como forma de mostrar a potência de informações que ela proporciona ao profissional de Dados, inclusive aos iniciantes.\n",
        "\n",
        "O pandas é uma biblioteca, senão a biblioteca mais usada, possui uma gama de opções para o profissional de dados trazer insgihts e preparar o dataset para modelagens mais complexas.\n",
        "\n",
        "Este notebook tem como propósito mostrar apenas funções iniciantes e explicações direcionadas a cerca do tema proposto."
      ]
    },
    {
      "cell_type": "markdown",
      "metadata": {
        "id": "uHnBXJZnzpFE"
      },
      "source": [
        "## **1. Processo de importação**\n",
        "\n",
        "Importando e entendendo o dataset."
      ]
    },
    {
      "cell_type": "code",
      "metadata": {
        "id": "UpkKdVWt4AeJ"
      },
      "source": [
        "import pandas as pd"
      ],
      "execution_count": 2,
      "outputs": []
    },
    {
      "cell_type": "code",
      "metadata": {
        "colab": {
          "base_uri": "https://localhost:8080/"
        },
        "id": "S3cgOkKE59Gf",
        "outputId": "5dfb001c-2cd8-4bbe-b64d-0211f9e8cfc2"
      },
      "source": [
        "caminho = 'https://raw.githubusercontent.com/travallons/flaidds3/main/datasets/datahackers-survey-2019-anonymous-responses.csv'\n",
        "dados = pd.read_csv(caminho)\n",
        "dados.shape"
      ],
      "execution_count": 3,
      "outputs": [
        {
          "output_type": "execute_result",
          "data": {
            "text/plain": [
              "(1765, 170)"
            ]
          },
          "metadata": {
            "tags": []
          },
          "execution_count": 3
        }
      ]
    },
    {
      "cell_type": "code",
      "metadata": {
        "colab": {
          "base_uri": "https://localhost:8080/"
        },
        "id": "CTB4laCX6h5j",
        "outputId": "45b36fdc-b375-49ad-88ba-e69ef4c5ee6f"
      },
      "source": [
        "dados.info()"
      ],
      "execution_count": 4,
      "outputs": [
        {
          "output_type": "stream",
          "text": [
            "<class 'pandas.core.frame.DataFrame'>\n",
            "RangeIndex: 1765 entries, 0 to 1764\n",
            "Columns: 170 entries, ('P0', 'id') to ('D6', 'anonymized_role')\n",
            "dtypes: float64(5), int64(146), object(19)\n",
            "memory usage: 2.3+ MB\n"
          ],
          "name": "stdout"
        }
      ]
    },
    {
      "cell_type": "code",
      "metadata": {
        "colab": {
          "base_uri": "https://localhost:8080/",
          "height": 502
        },
        "id": "2hSLndJF6nzP",
        "outputId": "9c741a79-b0e0-471f-9fdb-cdb334d1f9a2"
      },
      "source": [
        "dados.head(7)"
      ],
      "execution_count": 5,
      "outputs": [
        {
          "output_type": "execute_result",
          "data": {
            "text/html": [
              "<div>\n",
              "<style scoped>\n",
              "    .dataframe tbody tr th:only-of-type {\n",
              "        vertical-align: middle;\n",
              "    }\n",
              "\n",
              "    .dataframe tbody tr th {\n",
              "        vertical-align: top;\n",
              "    }\n",
              "\n",
              "    .dataframe thead th {\n",
              "        text-align: right;\n",
              "    }\n",
              "</style>\n",
              "<table border=\"1\" class=\"dataframe\">\n",
              "  <thead>\n",
              "    <tr style=\"text-align: right;\">\n",
              "      <th></th>\n",
              "      <th>('P0', 'id')</th>\n",
              "      <th>('P1', 'age')</th>\n",
              "      <th>('P2', 'gender')</th>\n",
              "      <th>('P3', 'living_in_brasil')</th>\n",
              "      <th>('P5', 'living_state')</th>\n",
              "      <th>('P6', 'born_or_graduated')</th>\n",
              "      <th>('P8', 'degreee_level')</th>\n",
              "      <th>('P10', 'job_situation')</th>\n",
              "      <th>('P12', 'workers_number')</th>\n",
              "      <th>('P13', 'manager')</th>\n",
              "      <th>('P16', 'salary_range')</th>\n",
              "      <th>('P17', 'time_experience_data_science')</th>\n",
              "      <th>('P18', 'time_experience_before')</th>\n",
              "      <th>('P19', 'is_data_science_professional')</th>\n",
              "      <th>('P20', 'linear_regression')</th>\n",
              "      <th>('P20', 'logistic_regression')</th>\n",
              "      <th>('P20', 'glms')</th>\n",
              "      <th>('P20', 'decision_tree')</th>\n",
              "      <th>('P20', 'random_forest')</th>\n",
              "      <th>('P20', 'neural_networks')</th>\n",
              "      <th>('P20', 'bayesian_inference')</th>\n",
              "      <th>('P20', 'ensemble')</th>\n",
              "      <th>('P20', 'svms')</th>\n",
              "      <th>('P20', 'cnns')</th>\n",
              "      <th>('P20', 'rnns')</th>\n",
              "      <th>('P20', 'hmms')</th>\n",
              "      <th>('P20', 'gans')</th>\n",
              "      <th>('P20', 'markov_chains')</th>\n",
              "      <th>('P20', 'nlp')</th>\n",
              "      <th>('P20', 'gradient_boosted_machines')</th>\n",
              "      <th>('P20', 'cluster_analysis')</th>\n",
              "      <th>('P20', 'survival_analysis')</th>\n",
              "      <th>('P20', 'longitudinal_data_analysis')</th>\n",
              "      <th>('P20', 'joint analysis')</th>\n",
              "      <th>('P20', 'no_listed_methods')</th>\n",
              "      <th>('P21', 'sql_')</th>\n",
              "      <th>('P21', 'r')</th>\n",
              "      <th>('P21', 'python')</th>\n",
              "      <th>('P21', 'c_c++_c#')</th>\n",
              "      <th>('P21', 'dotnet')</th>\n",
              "      <th>...</th>\n",
              "      <th>('P30', 'microsoft_azure')</th>\n",
              "      <th>('P30', 'do_not_know')</th>\n",
              "      <th>('P30', 'other')</th>\n",
              "      <th>('P31', 'data_hackers_blog')</th>\n",
              "      <th>('P31', 'data_hackers_podcast')</th>\n",
              "      <th>('P31', 'weekly_newsletter')</th>\n",
              "      <th>('P31', 'slack_channel')</th>\n",
              "      <th>('P31', 'data_hackers_bootcamp')</th>\n",
              "      <th>('P31', 'do_not_know_data_hackers')</th>\n",
              "      <th>('P32', 'prefered_data_hackers_initiative')</th>\n",
              "      <th>('P33', 'telegram_groups')</th>\n",
              "      <th>('P33', 'whatsapp_groups')</th>\n",
              "      <th>('P33', 'youtube_channels')</th>\n",
              "      <th>('P33', 'other_brasilian_blogs')</th>\n",
              "      <th>('P33', 'other_slack_channels')</th>\n",
              "      <th>('P33', 'twitter')</th>\n",
              "      <th>('P33', 'abroad_blogs')</th>\n",
              "      <th>('P33', 'abroad_podcasts')</th>\n",
              "      <th>('P33', 'meetups_and_events')</th>\n",
              "      <th>('P33', 'only_data_hackers')</th>\n",
              "      <th>('P33', 'other')</th>\n",
              "      <th>('P34', 'udacity')</th>\n",
              "      <th>('P34', 'coursera')</th>\n",
              "      <th>('P34', 'udemy')</th>\n",
              "      <th>('P34', 'height')</th>\n",
              "      <th>('P34', 'edx')</th>\n",
              "      <th>('P34', 'data_camp')</th>\n",
              "      <th>('P34', 'data_quest')</th>\n",
              "      <th>('P34', 'kaggle_learn')</th>\n",
              "      <th>('P34', 'online_courses')</th>\n",
              "      <th>('P34', 'other')</th>\n",
              "      <th>('P35', 'data_science_plataforms_preference')</th>\n",
              "      <th>('P35', 'other')</th>\n",
              "      <th>('P36', 'draw_participation')</th>\n",
              "      <th>('D1', 'living_macroregion')</th>\n",
              "      <th>('D2', 'origin_macroregion')</th>\n",
              "      <th>('D3', 'anonymized_degree_area')</th>\n",
              "      <th>('D4', 'anonymized_market_sector')</th>\n",
              "      <th>('D5', 'anonymized_manager_level')</th>\n",
              "      <th>('D6', 'anonymized_role')</th>\n",
              "    </tr>\n",
              "  </thead>\n",
              "  <tbody>\n",
              "    <tr>\n",
              "      <th>0</th>\n",
              "      <td>v9otv8j9wdvjrv9otvwnn9owhzq54ktv</td>\n",
              "      <td>37.0</td>\n",
              "      <td>Masculino</td>\n",
              "      <td>1</td>\n",
              "      <td>Minas Gerais (MG)</td>\n",
              "      <td>1.0</td>\n",
              "      <td>Estudante de Graduação</td>\n",
              "      <td>Empregado (CTL)</td>\n",
              "      <td>de 1 a 5</td>\n",
              "      <td>0.0</td>\n",
              "      <td>de R$ 1.001/mês a R$ 2.000/mês</td>\n",
              "      <td>Não tenho experiência na área de dados</td>\n",
              "      <td>Não tive experiência na área de TI/Engenharia ...</td>\n",
              "      <td>0</td>\n",
              "      <td>0</td>\n",
              "      <td>0</td>\n",
              "      <td>0</td>\n",
              "      <td>0</td>\n",
              "      <td>0</td>\n",
              "      <td>0</td>\n",
              "      <td>0</td>\n",
              "      <td>0</td>\n",
              "      <td>0</td>\n",
              "      <td>0</td>\n",
              "      <td>0</td>\n",
              "      <td>0</td>\n",
              "      <td>0</td>\n",
              "      <td>0</td>\n",
              "      <td>0</td>\n",
              "      <td>0</td>\n",
              "      <td>0</td>\n",
              "      <td>0</td>\n",
              "      <td>0</td>\n",
              "      <td>0</td>\n",
              "      <td>0</td>\n",
              "      <td>0</td>\n",
              "      <td>0</td>\n",
              "      <td>0</td>\n",
              "      <td>0</td>\n",
              "      <td>0</td>\n",
              "      <td>...</td>\n",
              "      <td>0</td>\n",
              "      <td>0</td>\n",
              "      <td>0</td>\n",
              "      <td>0</td>\n",
              "      <td>0</td>\n",
              "      <td>0</td>\n",
              "      <td>0</td>\n",
              "      <td>0</td>\n",
              "      <td>1</td>\n",
              "      <td>Ainda não conhecia o Data Hackers</td>\n",
              "      <td>0</td>\n",
              "      <td>0</td>\n",
              "      <td>1</td>\n",
              "      <td>0</td>\n",
              "      <td>0</td>\n",
              "      <td>0</td>\n",
              "      <td>0</td>\n",
              "      <td>0</td>\n",
              "      <td>0</td>\n",
              "      <td>0</td>\n",
              "      <td>0</td>\n",
              "      <td>0</td>\n",
              "      <td>0</td>\n",
              "      <td>0</td>\n",
              "      <td>0</td>\n",
              "      <td>0</td>\n",
              "      <td>0</td>\n",
              "      <td>0</td>\n",
              "      <td>0</td>\n",
              "      <td>1</td>\n",
              "      <td>0</td>\n",
              "      <td>Nunca fiz cursos online</td>\n",
              "      <td>NaN</td>\n",
              "      <td>1.0</td>\n",
              "      <td>Região Sudeste</td>\n",
              "      <td>NaN</td>\n",
              "      <td>Computação / Engenharia de Software / Sistemas...</td>\n",
              "      <td>Outras</td>\n",
              "      <td>NaN</td>\n",
              "      <td>Outras</td>\n",
              "    </tr>\n",
              "    <tr>\n",
              "      <th>1</th>\n",
              "      <td>875ul998t0hqcv0871uptwf3oswcfv35</td>\n",
              "      <td>24.0</td>\n",
              "      <td>Feminino</td>\n",
              "      <td>1</td>\n",
              "      <td>São Paulo (SP)</td>\n",
              "      <td>1.0</td>\n",
              "      <td>Estudante de Graduação</td>\n",
              "      <td>Empregado (CTL)</td>\n",
              "      <td>Acima de 3000</td>\n",
              "      <td>0.0</td>\n",
              "      <td>de R$ 2.001/mês a R$ 3000/mês</td>\n",
              "      <td>Menos de 1 ano</td>\n",
              "      <td>Não tive experiência na área de TI/Engenharia ...</td>\n",
              "      <td>1</td>\n",
              "      <td>0</td>\n",
              "      <td>0</td>\n",
              "      <td>0</td>\n",
              "      <td>0</td>\n",
              "      <td>0</td>\n",
              "      <td>0</td>\n",
              "      <td>0</td>\n",
              "      <td>0</td>\n",
              "      <td>0</td>\n",
              "      <td>0</td>\n",
              "      <td>0</td>\n",
              "      <td>0</td>\n",
              "      <td>0</td>\n",
              "      <td>0</td>\n",
              "      <td>0</td>\n",
              "      <td>0</td>\n",
              "      <td>0</td>\n",
              "      <td>0</td>\n",
              "      <td>0</td>\n",
              "      <td>0</td>\n",
              "      <td>1</td>\n",
              "      <td>1</td>\n",
              "      <td>0</td>\n",
              "      <td>1</td>\n",
              "      <td>0</td>\n",
              "      <td>0</td>\n",
              "      <td>...</td>\n",
              "      <td>0</td>\n",
              "      <td>0</td>\n",
              "      <td>0</td>\n",
              "      <td>0</td>\n",
              "      <td>0</td>\n",
              "      <td>0</td>\n",
              "      <td>0</td>\n",
              "      <td>0</td>\n",
              "      <td>1</td>\n",
              "      <td>Ainda não conhecia o Data Hackers</td>\n",
              "      <td>0</td>\n",
              "      <td>0</td>\n",
              "      <td>1</td>\n",
              "      <td>0</td>\n",
              "      <td>0</td>\n",
              "      <td>0</td>\n",
              "      <td>0</td>\n",
              "      <td>0</td>\n",
              "      <td>0</td>\n",
              "      <td>0</td>\n",
              "      <td>0</td>\n",
              "      <td>0</td>\n",
              "      <td>0</td>\n",
              "      <td>1</td>\n",
              "      <td>0</td>\n",
              "      <td>0</td>\n",
              "      <td>0</td>\n",
              "      <td>0</td>\n",
              "      <td>0</td>\n",
              "      <td>0</td>\n",
              "      <td>1</td>\n",
              "      <td>NaN</td>\n",
              "      <td>Data Science Academy</td>\n",
              "      <td>0.0</td>\n",
              "      <td>Região Sudeste</td>\n",
              "      <td>NaN</td>\n",
              "      <td>Computação / Engenharia de Software / Sistemas...</td>\n",
              "      <td>Educação</td>\n",
              "      <td>NaN</td>\n",
              "      <td>Data Analyst/Analista de Dados</td>\n",
              "    </tr>\n",
              "    <tr>\n",
              "      <th>2</th>\n",
              "      <td>puscuk079vw1pusbb900pzw2xvpxtgdk</td>\n",
              "      <td>26.0</td>\n",
              "      <td>Masculino</td>\n",
              "      <td>1</td>\n",
              "      <td>São Paulo (SP)</td>\n",
              "      <td>1.0</td>\n",
              "      <td>Graduação/Bacharelado</td>\n",
              "      <td>Empregado (CTL)</td>\n",
              "      <td>Acima de 3000</td>\n",
              "      <td>0.0</td>\n",
              "      <td>de R$ 4.001/mês a R$ 6.000/mês</td>\n",
              "      <td>de 1 a 2 anos</td>\n",
              "      <td>de 6 a 10 anos</td>\n",
              "      <td>1</td>\n",
              "      <td>0</td>\n",
              "      <td>0</td>\n",
              "      <td>0</td>\n",
              "      <td>0</td>\n",
              "      <td>1</td>\n",
              "      <td>1</td>\n",
              "      <td>0</td>\n",
              "      <td>1</td>\n",
              "      <td>1</td>\n",
              "      <td>0</td>\n",
              "      <td>0</td>\n",
              "      <td>0</td>\n",
              "      <td>0</td>\n",
              "      <td>0</td>\n",
              "      <td>0</td>\n",
              "      <td>0</td>\n",
              "      <td>1</td>\n",
              "      <td>0</td>\n",
              "      <td>0</td>\n",
              "      <td>0</td>\n",
              "      <td>0</td>\n",
              "      <td>0</td>\n",
              "      <td>0</td>\n",
              "      <td>1</td>\n",
              "      <td>0</td>\n",
              "      <td>0</td>\n",
              "      <td>...</td>\n",
              "      <td>0</td>\n",
              "      <td>0</td>\n",
              "      <td>0</td>\n",
              "      <td>0</td>\n",
              "      <td>1</td>\n",
              "      <td>1</td>\n",
              "      <td>0</td>\n",
              "      <td>0</td>\n",
              "      <td>0</td>\n",
              "      <td>Newsletter Semanal</td>\n",
              "      <td>0</td>\n",
              "      <td>0</td>\n",
              "      <td>0</td>\n",
              "      <td>1</td>\n",
              "      <td>0</td>\n",
              "      <td>0</td>\n",
              "      <td>0</td>\n",
              "      <td>0</td>\n",
              "      <td>0</td>\n",
              "      <td>0</td>\n",
              "      <td>0</td>\n",
              "      <td>0</td>\n",
              "      <td>1</td>\n",
              "      <td>1</td>\n",
              "      <td>0</td>\n",
              "      <td>0</td>\n",
              "      <td>0</td>\n",
              "      <td>0</td>\n",
              "      <td>1</td>\n",
              "      <td>0</td>\n",
              "      <td>0</td>\n",
              "      <td>Udemy</td>\n",
              "      <td>NaN</td>\n",
              "      <td>1.0</td>\n",
              "      <td>Região Sudeste</td>\n",
              "      <td>NaN</td>\n",
              "      <td>Outras Engenharias</td>\n",
              "      <td>Indústria (Manufatura)</td>\n",
              "      <td>NaN</td>\n",
              "      <td>Outras</td>\n",
              "    </tr>\n",
              "    <tr>\n",
              "      <th>3</th>\n",
              "      <td>rmel8ewqpbffp2mnfbzermel8eqincov</td>\n",
              "      <td>21.0</td>\n",
              "      <td>Masculino</td>\n",
              "      <td>1</td>\n",
              "      <td>São Paulo (SP)</td>\n",
              "      <td>0.0</td>\n",
              "      <td>Estudante de Graduação</td>\n",
              "      <td>Estagiário</td>\n",
              "      <td>de 11 a 50</td>\n",
              "      <td>0.0</td>\n",
              "      <td>de R$ 1.001/mês a R$ 2.000/mês</td>\n",
              "      <td>Menos de 1 ano</td>\n",
              "      <td>de 2 a 3 anos</td>\n",
              "      <td>1</td>\n",
              "      <td>0</td>\n",
              "      <td>0</td>\n",
              "      <td>0</td>\n",
              "      <td>0</td>\n",
              "      <td>1</td>\n",
              "      <td>0</td>\n",
              "      <td>0</td>\n",
              "      <td>0</td>\n",
              "      <td>0</td>\n",
              "      <td>0</td>\n",
              "      <td>0</td>\n",
              "      <td>0</td>\n",
              "      <td>0</td>\n",
              "      <td>0</td>\n",
              "      <td>0</td>\n",
              "      <td>0</td>\n",
              "      <td>0</td>\n",
              "      <td>0</td>\n",
              "      <td>0</td>\n",
              "      <td>0</td>\n",
              "      <td>0</td>\n",
              "      <td>1</td>\n",
              "      <td>0</td>\n",
              "      <td>1</td>\n",
              "      <td>0</td>\n",
              "      <td>0</td>\n",
              "      <td>...</td>\n",
              "      <td>0</td>\n",
              "      <td>0</td>\n",
              "      <td>0</td>\n",
              "      <td>0</td>\n",
              "      <td>0</td>\n",
              "      <td>0</td>\n",
              "      <td>0</td>\n",
              "      <td>0</td>\n",
              "      <td>1</td>\n",
              "      <td>Ainda não conhecia o Data Hackers</td>\n",
              "      <td>0</td>\n",
              "      <td>1</td>\n",
              "      <td>0</td>\n",
              "      <td>0</td>\n",
              "      <td>0</td>\n",
              "      <td>0</td>\n",
              "      <td>0</td>\n",
              "      <td>1</td>\n",
              "      <td>0</td>\n",
              "      <td>0</td>\n",
              "      <td>0</td>\n",
              "      <td>0</td>\n",
              "      <td>1</td>\n",
              "      <td>1</td>\n",
              "      <td>1</td>\n",
              "      <td>0</td>\n",
              "      <td>0</td>\n",
              "      <td>0</td>\n",
              "      <td>0</td>\n",
              "      <td>0</td>\n",
              "      <td>0</td>\n",
              "      <td>Alura</td>\n",
              "      <td>NaN</td>\n",
              "      <td>1.0</td>\n",
              "      <td>Região Sudeste</td>\n",
              "      <td>Região Sudeste</td>\n",
              "      <td>Computação / Engenharia de Software / Sistemas...</td>\n",
              "      <td>Tecnologia/Fábrica de Software</td>\n",
              "      <td>NaN</td>\n",
              "      <td>Business Intelligence/Analista de BI</td>\n",
              "    </tr>\n",
              "    <tr>\n",
              "      <th>4</th>\n",
              "      <td>pj9mgud4d6mdct1l7vq0pj9mgu78h6ju</td>\n",
              "      <td>27.0</td>\n",
              "      <td>Masculino</td>\n",
              "      <td>1</td>\n",
              "      <td>NaN</td>\n",
              "      <td>1.0</td>\n",
              "      <td>Graduação/Bacharelado</td>\n",
              "      <td>Freelancer</td>\n",
              "      <td>de 6 a 10</td>\n",
              "      <td>1.0</td>\n",
              "      <td>de R$ 6.001/mês a R$ 8.000/mês</td>\n",
              "      <td>de 4 a 5 anos</td>\n",
              "      <td>de 4 a 5 anos</td>\n",
              "      <td>1</td>\n",
              "      <td>1</td>\n",
              "      <td>0</td>\n",
              "      <td>0</td>\n",
              "      <td>1</td>\n",
              "      <td>1</td>\n",
              "      <td>0</td>\n",
              "      <td>0</td>\n",
              "      <td>1</td>\n",
              "      <td>1</td>\n",
              "      <td>0</td>\n",
              "      <td>1</td>\n",
              "      <td>0</td>\n",
              "      <td>0</td>\n",
              "      <td>0</td>\n",
              "      <td>1</td>\n",
              "      <td>0</td>\n",
              "      <td>0</td>\n",
              "      <td>0</td>\n",
              "      <td>0</td>\n",
              "      <td>0</td>\n",
              "      <td>0</td>\n",
              "      <td>1</td>\n",
              "      <td>0</td>\n",
              "      <td>1</td>\n",
              "      <td>1</td>\n",
              "      <td>0</td>\n",
              "      <td>...</td>\n",
              "      <td>0</td>\n",
              "      <td>0</td>\n",
              "      <td>0</td>\n",
              "      <td>1</td>\n",
              "      <td>0</td>\n",
              "      <td>0</td>\n",
              "      <td>0</td>\n",
              "      <td>0</td>\n",
              "      <td>0</td>\n",
              "      <td>Blog/Medium do Data Hackers</td>\n",
              "      <td>0</td>\n",
              "      <td>0</td>\n",
              "      <td>0</td>\n",
              "      <td>0</td>\n",
              "      <td>0</td>\n",
              "      <td>0</td>\n",
              "      <td>0</td>\n",
              "      <td>0</td>\n",
              "      <td>0</td>\n",
              "      <td>0</td>\n",
              "      <td>1</td>\n",
              "      <td>1</td>\n",
              "      <td>1</td>\n",
              "      <td>1</td>\n",
              "      <td>0</td>\n",
              "      <td>0</td>\n",
              "      <td>0</td>\n",
              "      <td>0</td>\n",
              "      <td>0</td>\n",
              "      <td>0</td>\n",
              "      <td>0</td>\n",
              "      <td>Udemy</td>\n",
              "      <td>NaN</td>\n",
              "      <td>1.0</td>\n",
              "      <td>NaN</td>\n",
              "      <td>NaN</td>\n",
              "      <td>Computação / Engenharia de Software / Sistemas...</td>\n",
              "      <td>Internet/Ecommerce</td>\n",
              "      <td>C-level (CDO, CIO, CTO)</td>\n",
              "      <td>NaN</td>\n",
              "    </tr>\n",
              "    <tr>\n",
              "      <th>5</th>\n",
              "      <td>cb7n2v7372y97wl1lcb7n2e8tpockl83</td>\n",
              "      <td>27.0</td>\n",
              "      <td>Masculino</td>\n",
              "      <td>1</td>\n",
              "      <td>Paraná (PR)</td>\n",
              "      <td>1.0</td>\n",
              "      <td>Estudante de Graduação</td>\n",
              "      <td>Empregado (CTL)</td>\n",
              "      <td>de 101 a 500</td>\n",
              "      <td>0.0</td>\n",
              "      <td>de R$ 3.001/mês a R$ 4.000/mês</td>\n",
              "      <td>Menos de 1 ano</td>\n",
              "      <td>de 4 a 5 anos</td>\n",
              "      <td>0</td>\n",
              "      <td>0</td>\n",
              "      <td>0</td>\n",
              "      <td>0</td>\n",
              "      <td>0</td>\n",
              "      <td>0</td>\n",
              "      <td>0</td>\n",
              "      <td>0</td>\n",
              "      <td>0</td>\n",
              "      <td>0</td>\n",
              "      <td>0</td>\n",
              "      <td>0</td>\n",
              "      <td>0</td>\n",
              "      <td>0</td>\n",
              "      <td>0</td>\n",
              "      <td>0</td>\n",
              "      <td>0</td>\n",
              "      <td>0</td>\n",
              "      <td>0</td>\n",
              "      <td>0</td>\n",
              "      <td>0</td>\n",
              "      <td>0</td>\n",
              "      <td>0</td>\n",
              "      <td>0</td>\n",
              "      <td>0</td>\n",
              "      <td>0</td>\n",
              "      <td>0</td>\n",
              "      <td>...</td>\n",
              "      <td>0</td>\n",
              "      <td>0</td>\n",
              "      <td>0</td>\n",
              "      <td>1</td>\n",
              "      <td>1</td>\n",
              "      <td>1</td>\n",
              "      <td>0</td>\n",
              "      <td>0</td>\n",
              "      <td>0</td>\n",
              "      <td>Podcast do Data Hackers</td>\n",
              "      <td>0</td>\n",
              "      <td>0</td>\n",
              "      <td>1</td>\n",
              "      <td>0</td>\n",
              "      <td>0</td>\n",
              "      <td>0</td>\n",
              "      <td>0</td>\n",
              "      <td>0</td>\n",
              "      <td>0</td>\n",
              "      <td>1</td>\n",
              "      <td>0</td>\n",
              "      <td>0</td>\n",
              "      <td>0</td>\n",
              "      <td>1</td>\n",
              "      <td>0</td>\n",
              "      <td>0</td>\n",
              "      <td>0</td>\n",
              "      <td>0</td>\n",
              "      <td>0</td>\n",
              "      <td>0</td>\n",
              "      <td>0</td>\n",
              "      <td>Udemy</td>\n",
              "      <td>NaN</td>\n",
              "      <td>1.0</td>\n",
              "      <td>Região Sul</td>\n",
              "      <td>NaN</td>\n",
              "      <td>Computação / Engenharia de Software / Sistemas...</td>\n",
              "      <td>Tecnologia/Fábrica de Software</td>\n",
              "      <td>NaN</td>\n",
              "      <td>Outras</td>\n",
              "    </tr>\n",
              "    <tr>\n",
              "      <th>6</th>\n",
              "      <td>ayev5viaqe43pxxqqxayev5vtvdba619</td>\n",
              "      <td>34.0</td>\n",
              "      <td>Masculino</td>\n",
              "      <td>1</td>\n",
              "      <td>Rio Grande do Sul (RS)</td>\n",
              "      <td>1.0</td>\n",
              "      <td>Pós-graduação</td>\n",
              "      <td>Empregado (CTL)</td>\n",
              "      <td>de 51 a 100</td>\n",
              "      <td>1.0</td>\n",
              "      <td>de R$ 6.001/mês a R$ 8.000/mês</td>\n",
              "      <td>Não tenho experiência na área de dados</td>\n",
              "      <td>Menos de 1 ano</td>\n",
              "      <td>1</td>\n",
              "      <td>0</td>\n",
              "      <td>0</td>\n",
              "      <td>0</td>\n",
              "      <td>0</td>\n",
              "      <td>0</td>\n",
              "      <td>0</td>\n",
              "      <td>0</td>\n",
              "      <td>0</td>\n",
              "      <td>0</td>\n",
              "      <td>0</td>\n",
              "      <td>0</td>\n",
              "      <td>0</td>\n",
              "      <td>0</td>\n",
              "      <td>0</td>\n",
              "      <td>0</td>\n",
              "      <td>0</td>\n",
              "      <td>0</td>\n",
              "      <td>0</td>\n",
              "      <td>0</td>\n",
              "      <td>0</td>\n",
              "      <td>1</td>\n",
              "      <td>1</td>\n",
              "      <td>0</td>\n",
              "      <td>1</td>\n",
              "      <td>0</td>\n",
              "      <td>0</td>\n",
              "      <td>...</td>\n",
              "      <td>0</td>\n",
              "      <td>0</td>\n",
              "      <td>0</td>\n",
              "      <td>1</td>\n",
              "      <td>1</td>\n",
              "      <td>1</td>\n",
              "      <td>0</td>\n",
              "      <td>0</td>\n",
              "      <td>0</td>\n",
              "      <td>Podcast do Data Hackers</td>\n",
              "      <td>1</td>\n",
              "      <td>0</td>\n",
              "      <td>1</td>\n",
              "      <td>0</td>\n",
              "      <td>0</td>\n",
              "      <td>0</td>\n",
              "      <td>0</td>\n",
              "      <td>0</td>\n",
              "      <td>0</td>\n",
              "      <td>0</td>\n",
              "      <td>0</td>\n",
              "      <td>0</td>\n",
              "      <td>0</td>\n",
              "      <td>1</td>\n",
              "      <td>0</td>\n",
              "      <td>0</td>\n",
              "      <td>0</td>\n",
              "      <td>0</td>\n",
              "      <td>0</td>\n",
              "      <td>0</td>\n",
              "      <td>1</td>\n",
              "      <td>Udemy</td>\n",
              "      <td>NaN</td>\n",
              "      <td>1.0</td>\n",
              "      <td>Região Sul</td>\n",
              "      <td>NaN</td>\n",
              "      <td>Computação / Engenharia de Software / Sistemas...</td>\n",
              "      <td>Tecnologia/Fábrica de Software</td>\n",
              "      <td>Team Leader/Tech Leader</td>\n",
              "      <td>NaN</td>\n",
              "    </tr>\n",
              "  </tbody>\n",
              "</table>\n",
              "<p>7 rows × 170 columns</p>\n",
              "</div>"
            ],
            "text/plain": [
              "                       ('P0', 'id')  ...             ('D6', 'anonymized_role')\n",
              "0  v9otv8j9wdvjrv9otvwnn9owhzq54ktv  ...                                Outras\n",
              "1  875ul998t0hqcv0871uptwf3oswcfv35  ...        Data Analyst/Analista de Dados\n",
              "2  puscuk079vw1pusbb900pzw2xvpxtgdk  ...                                Outras\n",
              "3  rmel8ewqpbffp2mnfbzermel8eqincov  ...  Business Intelligence/Analista de BI\n",
              "4  pj9mgud4d6mdct1l7vq0pj9mgu78h6ju  ...                                   NaN\n",
              "5  cb7n2v7372y97wl1lcb7n2e8tpockl83  ...                                Outras\n",
              "6  ayev5viaqe43pxxqqxayev5vtvdba619  ...                                   NaN\n",
              "\n",
              "[7 rows x 170 columns]"
            ]
          },
          "metadata": {
            "tags": []
          },
          "execution_count": 5
        }
      ]
    },
    {
      "cell_type": "markdown",
      "metadata": {
        "id": "FuR86Tbl0f3T"
      },
      "source": [
        "## **2. Olhando a ponta do Iceberg**\n",
        "\n",
        "Ponto de partida para compreender o dataset e então traçar caminhos que através do EDA tragam insights para os próximos passos."
      ]
    },
    {
      "cell_type": "code",
      "metadata": {
        "colab": {
          "base_uri": "https://localhost:8080/"
        },
        "id": "65CkKXkf6yza",
        "outputId": "87ddd5a4-9599-43fc-ec2d-8f810396ffec"
      },
      "source": [
        "dados.isnull().sum() != 0\n",
        "\n",
        "# Campos com output True significam que possuem respostas nulas/em branco e os output False que estão preenchidos"
      ],
      "execution_count": 6,
      "outputs": [
        {
          "output_type": "execute_result",
          "data": {
            "text/plain": [
              "('P0', 'id')                          False\n",
              "('P1', 'age')                          True\n",
              "('P2', 'gender')                       True\n",
              "('P3', 'living_in_brasil')            False\n",
              "('P5', 'living_state')                 True\n",
              "                                      ...  \n",
              "('D2', 'origin_macroregion')           True\n",
              "('D3', 'anonymized_degree_area')       True\n",
              "('D4', 'anonymized_market_sector')     True\n",
              "('D5', 'anonymized_manager_level')     True\n",
              "('D6', 'anonymized_role')              True\n",
              "Length: 170, dtype: bool"
            ]
          },
          "metadata": {
            "tags": []
          },
          "execution_count": 6
        }
      ]
    },
    {
      "cell_type": "code",
      "metadata": {
        "colab": {
          "base_uri": "https://localhost:8080/"
        },
        "id": "n791Uvie8WDX",
        "outputId": "708bc391-f5e2-4d22-a3f8-32efd9489150"
      },
      "source": [
        "(dados.isnull().sum()[dados.isnull().sum() != 0]/dados.shape[0]).sort_values(ascending = False)"
      ],
      "execution_count": 7,
      "outputs": [
        {
          "output_type": "execute_result",
          "data": {
            "text/plain": [
              "('P35', 'other')                                 0.920680\n",
              "('D5', 'anonymized_manager_level')               0.827195\n",
              "('D2', 'origin_macroregion')                     0.815864\n",
              "('P29', 'have_data_warehouse')                   0.550708\n",
              "('P22', 'most_used_proggraming_languages')       0.486686\n",
              "('D6', 'anonymized_role')                        0.291218\n",
              "('D1', 'living_macroregion')                     0.190935\n",
              "('P5', 'living_state')                           0.190935\n",
              "('D4', 'anonymized_market_sector')               0.137677\n",
              "('P16', 'salary_range')                          0.134844\n",
              "('P13', 'manager')                               0.134844\n",
              "('P12', 'workers_number')                        0.134844\n",
              "('P35', 'data_science_plataforms_preference')    0.079320\n",
              "('D3', 'anonymized_degree_area')                 0.019830\n",
              "('P6', 'born_or_graduated')                      0.019263\n",
              "('P1', 'age')                                    0.013598\n",
              "('P36', 'draw_participation')                    0.002266\n",
              "('P2', 'gender')                                 0.001700\n",
              "dtype: float64"
            ]
          },
          "metadata": {
            "tags": []
          },
          "execution_count": 7
        }
      ]
    },
    {
      "cell_type": "markdown",
      "metadata": {
        "id": "I7tU6BazsEJy"
      },
      "source": [
        "A informação acima consta a porcentagem de campos nulos que o dataset contém, essa informação é importante para prosseguir com análise dos dados, reconhecimento de outliers e desenvolvimento de modelos preditivos."
      ]
    },
    {
      "cell_type": "code",
      "metadata": {
        "colab": {
          "base_uri": "https://localhost:8080/"
        },
        "id": "tuBD02d19FUo",
        "outputId": "210c9147-f093-4a8b-cb37-febfb5e35b40"
      },
      "source": [
        "dados[\"('D6', 'anonymized_role')\"].value_counts()"
      ],
      "execution_count": 8,
      "outputs": [
        {
          "output_type": "execute_result",
          "data": {
            "text/plain": [
              "Desenvolvedor ou Engenheiro de Software    225\n",
              "Outras                                     220\n",
              "Data Scientist/Cientista de Dados          167\n",
              "Data Analyst/Analista de Dados             163\n",
              "Business Intelligence/Analista de BI       150\n",
              "Data Engineer/Engenheiro de Dados          130\n",
              "Business Analyst/Analista de Negócios       72\n",
              "Analista de Inteligência de Mercado         29\n",
              "Engenheiro                                  26\n",
              "Analista de Marketing                       19\n",
              "Engenheiro de Machine Learning              15\n",
              "DBA/Administrador de Banco de Dados         14\n",
              "Estatístico                                 11\n",
              "Economista                                  10\n",
              "Name: ('D6', 'anonymized_role'), dtype: int64"
            ]
          },
          "metadata": {
            "tags": []
          },
          "execution_count": 8
        }
      ]
    },
    {
      "cell_type": "markdown",
      "metadata": {
        "id": "2A1FNpfithGw"
      },
      "source": [
        "Temos todos os cargos que constam no dataset classificados do maior para o menor, como são muitas classes (muitas delas similares) é interessante agrupar cargos afins com intuito de refinar a informação."
      ]
    },
    {
      "cell_type": "code",
      "metadata": {
        "colab": {
          "base_uri": "https://localhost:8080/"
        },
        "id": "PI4C-ZtHHPyv",
        "outputId": "791b71f7-7c0a-40d5-a46c-c8678cf169dc"
      },
      "source": [
        "dados[\"('P12', 'workers_number')\"].value_counts()"
      ],
      "execution_count": 9,
      "outputs": [
        {
          "output_type": "execute_result",
          "data": {
            "text/plain": [
              "Acima de 3000     393\n",
              "de 101 a 500      333\n",
              "de 11 a 50        204\n",
              "de 501 a 1000     172\n",
              "de 1001 a 3000    164\n",
              "de 51 a 100       128\n",
              "de 1 a 5           72\n",
              "de 6 a 10          61\n",
              "Name: ('P12', 'workers_number'), dtype: int64"
            ]
          },
          "metadata": {
            "tags": []
          },
          "execution_count": 9
        }
      ]
    },
    {
      "cell_type": "markdown",
      "metadata": {
        "id": "oCyauc3Bt22o"
      },
      "source": [
        "O porte das empresas é outro caso a considerar um agrupamento mais dinâmico facilitando o entendimento dos níveis de estruturas das organizações."
      ]
    },
    {
      "cell_type": "code",
      "metadata": {
        "colab": {
          "base_uri": "https://localhost:8080/"
        },
        "id": "IvASmpp0KNX0",
        "outputId": "71e19309-6084-4a91-91ff-f131151ecd1d"
      },
      "source": [
        " dados[\"('P17', 'time_experience_data_science')\"].value_counts()"
      ],
      "execution_count": 10,
      "outputs": [
        {
          "output_type": "execute_result",
          "data": {
            "text/plain": [
              "Menos de 1 ano                            445\n",
              "de 1 a 2 anos                             343\n",
              "de 2 a 3 anos                             244\n",
              "Não tenho experiência na área de dados    221\n",
              "de 4 a 5 anos                             186\n",
              "de 6 a 10 anos                            179\n",
              "Mais de 10 anos                           147\n",
              "Name: ('P17', 'time_experience_data_science'), dtype: int64"
            ]
          },
          "metadata": {
            "tags": []
          },
          "execution_count": 10
        }
      ]
    },
    {
      "cell_type": "markdown",
      "metadata": {
        "id": "CHTpevwMuPjw"
      },
      "source": [
        "Temos aqui algumas classificações que geram dúvidas, exemplo:\n",
        "\n",
        "*   1 a 2\n",
        "*   2 a 3\n",
        "*   4 a 5\n",
        "\n",
        "Pode gerar dúvidas do intervalo 3 a 4, que não consta no dataset, onde estaria exatemente inserido, portanto agrupar essas classificações trará uma uniformadade e mais confiabilidade na informação."
      ]
    },
    {
      "cell_type": "code",
      "metadata": {
        "colab": {
          "base_uri": "https://localhost:8080/"
        },
        "id": "dnKXztwXXeU_",
        "outputId": "3265c9d0-38b8-4d96-8977-cec0a1b282a7"
      },
      "source": [
        "dados[\"('P13', 'manager')\"].value_counts()"
      ],
      "execution_count": 11,
      "outputs": [
        {
          "output_type": "execute_result",
          "data": {
            "text/plain": [
              "0.0    1222\n",
              "1.0     305\n",
              "Name: ('P13', 'manager'), dtype: int64"
            ]
          },
          "metadata": {
            "tags": []
          },
          "execution_count": 11
        }
      ]
    },
    {
      "cell_type": "markdown",
      "metadata": {
        "id": "xiEGQDAHwlRm"
      },
      "source": [
        "Acima temos a distribuição dos respondentes que são ou não gestores.\n",
        "Evidenciando que do total respondido, 20% são gestores."
      ]
    },
    {
      "cell_type": "code",
      "metadata": {
        "colab": {
          "base_uri": "https://localhost:8080/"
        },
        "id": "pDaV-grY90-n",
        "outputId": "77ae6db7-8b06-4429-e610-49d94c8dc73f"
      },
      "source": [
        " dados[\"('P16', 'salary_range')\"].value_counts()"
      ],
      "execution_count": 12,
      "outputs": [
        {
          "output_type": "execute_result",
          "data": {
            "text/plain": [
              "de R$ 4.001/mês a R$ 6.000/mês      308\n",
              "de R$ 8.001/mês a R$ 12.000/mês     237\n",
              "de R$ 6.001/mês a R$ 8.000/mês      229\n",
              "de R$ 3.001/mês a R$ 4.000/mês      219\n",
              "de R$ 1.001/mês a R$ 2.000/mês      181\n",
              "de R$ 2.001/mês a R$ 3000/mês       150\n",
              "de R$ 12.001/mês a R$ 16.000/mês     82\n",
              "Menos de R$ 1.000/mês                48\n",
              "de R$ 16.001/mês a R$ 20.000/mês     45\n",
              "de R$ 20.001/mês a R$ 25.000/mês     15\n",
              "Acima de R$ 25.001/mês               13\n",
              "Name: ('P16', 'salary_range'), dtype: int64"
            ]
          },
          "metadata": {
            "tags": []
          },
          "execution_count": 12
        }
      ]
    },
    {
      "cell_type": "markdown",
      "metadata": {
        "id": "BLcNgxUIvKUY"
      },
      "source": [
        "A faixa salarial será melhor resentanda usando a média do intervalo da classificação."
      ]
    },
    {
      "cell_type": "code",
      "metadata": {
        "colab": {
          "base_uri": "https://localhost:8080/",
          "height": 283
        },
        "id": "TFuvUJXoB43z",
        "outputId": "5c47386c-9900-4649-9c9d-b338d8a64aa8"
      },
      "source": [
        "dados[\"('P1', 'age')\"].plot(kind = 'hist', color = 'red', edgecolor = 'black')"
      ],
      "execution_count": 13,
      "outputs": [
        {
          "output_type": "execute_result",
          "data": {
            "text/plain": [
              "<matplotlib.axes._subplots.AxesSubplot at 0x7f31703a4c10>"
            ]
          },
          "metadata": {
            "tags": []
          },
          "execution_count": 13
        },
        {
          "output_type": "display_data",
          "data": {
            "image/png": "[encoded data removed]",
            "text/plain": [
              "<Figure size 432x288 with 1 Axes>"
            ]
          },
          "metadata": {
            "tags": [],
            "needs_background": "light"
          }
        }
      ]
    },
    {
      "cell_type": "markdown",
      "metadata": {
        "id": "o6vYZEarxm3O"
      },
      "source": [
        "O gráfico acima ressalta a distribuição de respondentes por idade, mostrando que os profissionais da área de dados são em sua maioria, pessoas entre 21 a 31 anos."
      ]
    },
    {
      "cell_type": "code",
      "metadata": {
        "colab": {
          "base_uri": "https://localhost:8080/",
          "height": 282
        },
        "id": "t710ND5nCNaM",
        "outputId": "a59604b7-f2d6-4467-9878-bc74ec68eb69"
      },
      "source": [
        "dados[\"('P17', 'time_experience_data_science')\"].value_counts().plot(kind = 'barh', color = 'darkblue', edgecolor = 'black')"
      ],
      "execution_count": 14,
      "outputs": [
        {
          "output_type": "execute_result",
          "data": {
            "text/plain": [
              "<matplotlib.axes._subplots.AxesSubplot at 0x7f31702dcf10>"
            ]
          },
          "metadata": {
            "tags": []
          },
          "execution_count": 14
        },
        {
          "output_type": "display_data",
          "data": {
            "image/png": "[encoded data removed]",
            "text/plain": [
              "<Figure size 432x288 with 1 Axes>"
            ]
          },
          "metadata": {
            "tags": [],
            "needs_background": "light"
          }
        }
      ]
    },
    {
      "cell_type": "markdown",
      "metadata": {
        "id": "_mN2eTedyo3M"
      },
      "source": [
        "O plot acima reafirma que a profissão em si também é nova, pois a massa de experiência se concentra de menos de 1 ano até 3 anos de experiência."
      ]
    },
    {
      "cell_type": "markdown",
      "metadata": {
        "id": "TwO0pCvV2jhy"
      },
      "source": [
        "## **3. Ajustando os dados**\n",
        "A partir daqui iremos trabalhar no dataset a fim executar as transformações planejadas para que o EDA seja melhor observado."
      ]
    },
    {
      "cell_type": "code",
      "metadata": {
        "id": "gYIIWFCVCzCC"
      },
      "source": [
        "#Agrupamento de Profissões\n",
        "profmap = {'Desenvolvedor ou Engenheiro de Software': 'Desenvolvedor/Engenheiro de Software',\n",
        "                                            'Outras': 'Outras',\n",
        "                 'Data Scientist/Cientista de Dados': 'Cientista de Dados',\n",
        "                    'Data Analyst/Analista de Dados': 'Analista de Dados',\n",
        "              'Business Intelligence/Analista de BI': 'Analista de BI',\n",
        "                 'Data Engineer/Engenheiro de Dados': 'Engenheiro de Dados',\n",
        "             'Business Analyst/Analista de Negócios': 'Analista de BI',\n",
        "               'Analista de Inteligência de Mercado': 'Analista de BI',\n",
        "                                        'Engenheiro': 'Outras',\n",
        "                             'Analista de Marketing': 'Outras',\n",
        "                    'Engenheiro de Machine Learning': 'Cientista de Dados',\n",
        "               'DBA/Administrador de Banco de Dados': 'Engenheiro de Dados',\n",
        "                                       'Estatístico': 'Cientista de Dados',\n",
        "                                        'Economista': 'Outras'}\n",
        "\n",
        "\n",
        "#Criando tamanho da empresa\n",
        "tammap = {'de 1 a 5': 'Pequena',\n",
        "         'de 6 a 10': 'Pequena',\n",
        "        'de 11 a 50': 'Pequena',\n",
        "       'de 51 a 100': 'Pequena',\n",
        "      'de 101 a 500': 'Média',\n",
        "     'de 501 a 1000': 'Média',\n",
        "    'de 1001 a 3000': 'Grande',\n",
        "     'Acima de 3000': 'Grande'}\n",
        "\n",
        "\n",
        "#Recategorizando Experiência\n",
        "temp_xp_ds = {'Não tenho experiência na área de dados': 'Sem Experiência',\n",
        "                                      'Menos de 1 ano': 'Até 1 ano',\n",
        "                                       'de 1 a 2 anos': 'De 1 a 3 anos',\n",
        "                                       'de 2 a 3 anos': 'De 1 a 3 anos',\n",
        "                                       'de 4 a 5 anos': 'De 3 a 5 anos',\n",
        "                                      'de 6 a 10 anos': 'Maior que 5 anos',\n",
        "                                     'Mais de 10 anos': 'Maior que 5 anos'}\n",
        "\n",
        "\n",
        "#Discretizando salário\n",
        "salmap = { 'Menos de R$ 1.000/mês': 1000,\n",
        "  'de R$ 1.001/mês a R$ 2.000/mês': 1500,\n",
        "   'de R$ 2.001/mês a R$ 3000/mês': 2500,\n",
        "  'de R$ 3.001/mês a R$ 4.000/mês': 3500,\n",
        " 'de R$ 4.001/mês a R$ 6.000/mês': 5000,\n",
        "  'de R$ 6.001/mês a R$ 8.000/mês': 7000,\n",
        " 'de R$ 8.001/mês a R$ 12.000/mês': 10000,\n",
        "'de R$ 12.001/mês a R$ 16.000/mês': 14000,\n",
        "'de R$ 16.001/mês a R$ 20.000/mês': 18000,\n",
        "'de R$ 20.001/mês a R$ 25.000/mês': 22500,\n",
        "          'Acima de R$ 25.001/mês': 25000}\n",
        "\n",
        "\n",
        "#Discretização de Idade\n",
        "cortes = [0, 24, 30, 40, 100]\n",
        "fxidade = ['[18,24]', '[25,30]', '[31,40]', '[41,50]']\n",
        "\n",
        "\n",
        "#Criando um novo dataset com as informações de maior interesse\n",
        "dados['idade'] = pd.cut(dados[\"('P1', 'age')\"], bins = cortes, labels = fxidade)\n",
        "dados['profissao'] = dados[\"('D6', 'anonymized_role')\"].map(profmap)\n",
        "dados['salario'] = dados[\"('P16', 'salary_range')\"].map(salmap)\n",
        "dados['tamanho_da_empresa'] = dados[\"('P12', 'workers_number')\"].map(tammap)\n",
        "dados['gestor'] = dados[\"('P13', 'manager')\"].map({0.0: 'não', 1.0: 'sim'})\n",
        "dados['se_considera_ds'] = dados[\"('P19', 'is_data_science_professional')\"].map({0: 'Não', 1: 'Sim'})\n",
        "dados['sexo'] = dados[\"('P2', 'gender')\"]\n",
        "dados['experiencia_ds'] = dados[\"('P17', 'time_experience_data_science')\"].map(temp_xp_ds)\n",
        "dados['tipo_de_trabalho'] = dados[\"('P10', 'job_situation')\"]\n",
        "dados['area_de_formacao'] = dados[\"('D3', 'anonymized_degree_area')\"]\n",
        "dados['setor_de_mercado'] = dados[\"('D4', 'anonymized_market_sector')\"]\n",
        "dados['plataforma_favorita'] = dados[\"('P35', 'data_science_plataforms_preference')\"]\n",
        "\n",
        "\n",
        "#Criando conjuntos de dados convenientes através de alguns filtros\n",
        "#Profissões de dados\n",
        "\n",
        "lista = ['Cientista de Dados', 'Analista de Dados', 'Analista de BI', 'Engenheiro de Dados']\n",
        "pds = dados[dados['profissao'].isin(lista)]\n",
        "cds = dados[dados['profissao'] == 'Cientista de Dados']\n",
        "ads = dados[dados['profissao'] == 'Analista de Dados']\n",
        "abi = dados[dados['profissao'] == 'Analista de BI']\n",
        "eds = dados[dados['profissao'] == 'Engenheiro de Dados']"
      ],
      "execution_count": 15,
      "outputs": []
    },
    {
      "cell_type": "markdown",
      "metadata": {
        "id": "r3nL7LGPzaNl"
      },
      "source": [
        "Reclassificando:\n",
        "\n",
        "1.   Profissões\n",
        "2.   Porte da empresa\n",
        "3.   Tempo de experiência\n",
        "4.   Salários\n",
        "5.   Faixa de idade\n",
        "\n",
        "*Deixando pronto as variáveis para consultas e análises*"
      ]
    },
    {
      "cell_type": "code",
      "metadata": {
        "colab": {
          "base_uri": "https://localhost:8080/"
        },
        "id": "_m5iwBfDZEAN",
        "outputId": "58d36589-acff-4602-e569-b885f86a1590"
      },
      "source": [
        "cds.shape"
      ],
      "execution_count": 16,
      "outputs": [
        {
          "output_type": "execute_result",
          "data": {
            "text/plain": [
              "(193, 182)"
            ]
          },
          "metadata": {
            "tags": []
          },
          "execution_count": 16
        }
      ]
    },
    {
      "cell_type": "markdown",
      "metadata": {
        "id": "mBASL4XR4Hxg"
      },
      "source": [
        "## **4. Perfil do Profissional de Dados**\n",
        "\n",
        "Para exemplificar o EDA (Exploratory Data Analysis, que significa Análise Exploratória de Dados) os subtópicos a seguir mostram a extração dos dados e os insights que trazem."
      ]
    },
    {
      "cell_type": "markdown",
      "metadata": {
        "id": "IPNz8GrTi8XZ"
      },
      "source": [
        "### **4.1 Média Salarial**"
      ]
    },
    {
      "cell_type": "code",
      "metadata": {
        "colab": {
          "base_uri": "https://localhost:8080/",
          "height": 204
        },
        "id": "J_RvggrRvHCp",
        "outputId": "eee9df02-3d5e-43fd-f285-2bfd4031775b"
      },
      "source": [
        "pds['salario'].groupby(pds['profissao']).describe().round(2)"
      ],
      "execution_count": 17,
      "outputs": [
        {
          "output_type": "execute_result",
          "data": {
            "text/html": [
              "<div>\n",
              "<style scoped>\n",
              "    .dataframe tbody tr th:only-of-type {\n",
              "        vertical-align: middle;\n",
              "    }\n",
              "\n",
              "    .dataframe tbody tr th {\n",
              "        vertical-align: top;\n",
              "    }\n",
              "\n",
              "    .dataframe thead th {\n",
              "        text-align: right;\n",
              "    }\n",
              "</style>\n",
              "<table border=\"1\" class=\"dataframe\">\n",
              "  <thead>\n",
              "    <tr style=\"text-align: right;\">\n",
              "      <th></th>\n",
              "      <th>count</th>\n",
              "      <th>mean</th>\n",
              "      <th>std</th>\n",
              "      <th>min</th>\n",
              "      <th>25%</th>\n",
              "      <th>50%</th>\n",
              "      <th>75%</th>\n",
              "      <th>max</th>\n",
              "    </tr>\n",
              "    <tr>\n",
              "      <th>profissao</th>\n",
              "      <th></th>\n",
              "      <th></th>\n",
              "      <th></th>\n",
              "      <th></th>\n",
              "      <th></th>\n",
              "      <th></th>\n",
              "      <th></th>\n",
              "      <th></th>\n",
              "    </tr>\n",
              "  </thead>\n",
              "  <tbody>\n",
              "    <tr>\n",
              "      <th>Analista de BI</th>\n",
              "      <td>251.0</td>\n",
              "      <td>4978.09</td>\n",
              "      <td>3048.04</td>\n",
              "      <td>1000.0</td>\n",
              "      <td>2500.0</td>\n",
              "      <td>5000.0</td>\n",
              "      <td>7000.0</td>\n",
              "      <td>14000.0</td>\n",
              "    </tr>\n",
              "    <tr>\n",
              "      <th>Analista de Dados</th>\n",
              "      <td>163.0</td>\n",
              "      <td>5036.81</td>\n",
              "      <td>2890.26</td>\n",
              "      <td>1000.0</td>\n",
              "      <td>3500.0</td>\n",
              "      <td>5000.0</td>\n",
              "      <td>7000.0</td>\n",
              "      <td>18000.0</td>\n",
              "    </tr>\n",
              "    <tr>\n",
              "      <th>Cientista de Dados</th>\n",
              "      <td>193.0</td>\n",
              "      <td>6831.61</td>\n",
              "      <td>4725.69</td>\n",
              "      <td>1000.0</td>\n",
              "      <td>3500.0</td>\n",
              "      <td>5000.0</td>\n",
              "      <td>10000.0</td>\n",
              "      <td>25000.0</td>\n",
              "    </tr>\n",
              "    <tr>\n",
              "      <th>Engenheiro de Dados</th>\n",
              "      <td>144.0</td>\n",
              "      <td>7802.08</td>\n",
              "      <td>4856.41</td>\n",
              "      <td>1500.0</td>\n",
              "      <td>5000.0</td>\n",
              "      <td>7000.0</td>\n",
              "      <td>10000.0</td>\n",
              "      <td>25000.0</td>\n",
              "    </tr>\n",
              "  </tbody>\n",
              "</table>\n",
              "</div>"
            ],
            "text/plain": [
              "                     count     mean      std  ...     50%      75%      max\n",
              "profissao                                     ...                          \n",
              "Analista de BI       251.0  4978.09  3048.04  ...  5000.0   7000.0  14000.0\n",
              "Analista de Dados    163.0  5036.81  2890.26  ...  5000.0   7000.0  18000.0\n",
              "Cientista de Dados   193.0  6831.61  4725.69  ...  5000.0  10000.0  25000.0\n",
              "Engenheiro de Dados  144.0  7802.08  4856.41  ...  7000.0  10000.0  25000.0\n",
              "\n",
              "[4 rows x 8 columns]"
            ]
          },
          "metadata": {
            "tags": []
          },
          "execution_count": 17
        }
      ]
    },
    {
      "cell_type": "code",
      "metadata": {
        "colab": {
          "base_uri": "https://localhost:8080/",
          "height": 204
        },
        "id": "uCnRs3W0rNj-",
        "outputId": "18d87a0d-c2c7-473a-f469-6d93a5c5d032"
      },
      "source": [
        "pds['salario'].groupby(pds['profissao']).describe()[['count', 'mean']].round(2)"
      ],
      "execution_count": 18,
      "outputs": [
        {
          "output_type": "execute_result",
          "data": {
            "text/html": [
              "<div>\n",
              "<style scoped>\n",
              "    .dataframe tbody tr th:only-of-type {\n",
              "        vertical-align: middle;\n",
              "    }\n",
              "\n",
              "    .dataframe tbody tr th {\n",
              "        vertical-align: top;\n",
              "    }\n",
              "\n",
              "    .dataframe thead th {\n",
              "        text-align: right;\n",
              "    }\n",
              "</style>\n",
              "<table border=\"1\" class=\"dataframe\">\n",
              "  <thead>\n",
              "    <tr style=\"text-align: right;\">\n",
              "      <th></th>\n",
              "      <th>count</th>\n",
              "      <th>mean</th>\n",
              "    </tr>\n",
              "    <tr>\n",
              "      <th>profissao</th>\n",
              "      <th></th>\n",
              "      <th></th>\n",
              "    </tr>\n",
              "  </thead>\n",
              "  <tbody>\n",
              "    <tr>\n",
              "      <th>Analista de BI</th>\n",
              "      <td>251.0</td>\n",
              "      <td>4978.09</td>\n",
              "    </tr>\n",
              "    <tr>\n",
              "      <th>Analista de Dados</th>\n",
              "      <td>163.0</td>\n",
              "      <td>5036.81</td>\n",
              "    </tr>\n",
              "    <tr>\n",
              "      <th>Cientista de Dados</th>\n",
              "      <td>193.0</td>\n",
              "      <td>6831.61</td>\n",
              "    </tr>\n",
              "    <tr>\n",
              "      <th>Engenheiro de Dados</th>\n",
              "      <td>144.0</td>\n",
              "      <td>7802.08</td>\n",
              "    </tr>\n",
              "  </tbody>\n",
              "</table>\n",
              "</div>"
            ],
            "text/plain": [
              "                     count     mean\n",
              "profissao                          \n",
              "Analista de BI       251.0  4978.09\n",
              "Analista de Dados    163.0  5036.81\n",
              "Cientista de Dados   193.0  6831.61\n",
              "Engenheiro de Dados  144.0  7802.08"
            ]
          },
          "metadata": {
            "tags": []
          },
          "execution_count": 18
        }
      ]
    },
    {
      "cell_type": "code",
      "metadata": {
        "colab": {
          "base_uri": "https://localhost:8080/",
          "height": 545
        },
        "id": "kCiOkT_H2mbM",
        "outputId": "d3bf892d-1bf0-4327-a5d3-0f60e82fcc8a"
      },
      "source": [
        "salarioplot = pds['salario'].groupby(pds['profissao']).describe()[['mean']].round(2).plot(kind = 'barh', color = 'brown', edgecolor = 'black', title = 'Média Salarial')\n",
        "qtdplot = pds['salario'].groupby(pds['profissao']).describe()[['count']].round(2).plot(kind = 'barh', color = 'green', edgecolor = 'black', title = 'Qtd. de Profissionais')\n"
      ],
      "execution_count": 67,
      "outputs": [
        {
          "output_type": "display_data",
          "data": {
            "image/png": "[encoded data removed]",
            "text/plain": [
              "<Figure size 432x288 with 1 Axes>"
            ]
          },
          "metadata": {
            "tags": [],
            "needs_background": "light"
          }
        },
        {
          "output_type": "display_data",
          "data": {
            "image/png": "[encoded data removed]",
            "text/plain": [
              "<Figure size 432x288 with 1 Axes>"
            ]
          },
          "metadata": {
            "tags": [],
            "needs_background": "light"
          }
        }
      ]
    },
    {
      "cell_type": "markdown",
      "metadata": {
        "id": "jQRX1PDb5PfR"
      },
      "source": [
        "A média salarial entre Analista de BI e de Dados são bem próximas: 1% de diferença.\n",
        "\n",
        "Entretanto a quantidade de profissionais que atuam com Inteligência de Negócios é superior as demais profissões: 35% a mais de profissionais de BI em relação aos analistas de Dados para exemplificar."
      ]
    },
    {
      "cell_type": "code",
      "metadata": {
        "colab": {
          "base_uri": "https://localhost:8080/"
        },
        "id": "-RPvsqWysRMq",
        "outputId": "ed1539e0-3f7a-4b64-c786-6c6e655b4eae"
      },
      "source": [
        "pds.groupby(['profissao', 'experiencia_ds']).mean()['salario'].round(2)"
      ],
      "execution_count": 19,
      "outputs": [
        {
          "output_type": "execute_result",
          "data": {
            "text/plain": [
              "profissao            experiencia_ds  \n",
              "Analista de BI       Até 1 ano            3076.39\n",
              "                     De 1 a 3 anos        4515.79\n",
              "                     De 3 a 5 anos        6107.14\n",
              "                     Maior que 5 anos     8372.34\n",
              "                     Sem Experiência      3833.33\n",
              "Analista de Dados    Até 1 ano            3431.82\n",
              "                     De 1 a 3 anos        4650.00\n",
              "                     De 3 a 5 anos        6260.87\n",
              "                     Maior que 5 anos     7960.00\n",
              "                     Sem Experiência      1500.00\n",
              "Cientista de Dados   Até 1 ano            3675.00\n",
              "                     De 1 a 3 anos        5930.69\n",
              "                     De 3 a 5 anos       10648.15\n",
              "                     Maior que 5 anos    11770.83\n",
              "                     Sem Experiência      2500.00\n",
              "Engenheiro de Dados  Até 1 ano            4816.67\n",
              "                     De 1 a 3 anos        6509.09\n",
              "                     De 3 a 5 anos        8840.91\n",
              "                     Maior que 5 anos    12352.94\n",
              "                     Sem Experiência      2166.67\n",
              "Name: salario, dtype: float64"
            ]
          },
          "metadata": {
            "tags": []
          },
          "execution_count": 19
        }
      ]
    },
    {
      "cell_type": "markdown",
      "metadata": {
        "id": "zReM5qUO5_sz"
      },
      "source": [
        "Com exceção do Engenheiro de Dados, as demais profissões possuem média salarial até 1 ano de experiência muito similares, média de diferença de R$ 300,00.\n",
        "\n",
        "Ao observar os profissionais com mais de 5 anos de experiência, a diferença é maior:\n",
        "\n",
        "*   5% é a diferença da média salarial entre Analista de Dados e de BI;\n",
        "*   Compararando a média salarial entre os dois acima citados com o Cientista de Dados, a diferença chega a 31%.\n",
        "\n",
        "O que pode impactar na decisão de trajetória de carreira de um profissional ou na escolha de um perfil de profissional adequado para a necessidade uma empresa."
      ]
    },
    {
      "cell_type": "code",
      "metadata": {
        "colab": {
          "base_uri": "https://localhost:8080/",
          "height": 142
        },
        "id": "Wfzrq-z5bz8C",
        "outputId": "5ee5dc89-6934-4b89-f03a-95f8ec467559"
      },
      "source": [
        "pds['salario'].groupby(pds['sexo']).describe()[['count', 'mean']].round(2)"
      ],
      "execution_count": 20,
      "outputs": [
        {
          "output_type": "execute_result",
          "data": {
            "text/html": [
              "<div>\n",
              "<style scoped>\n",
              "    .dataframe tbody tr th:only-of-type {\n",
              "        vertical-align: middle;\n",
              "    }\n",
              "\n",
              "    .dataframe tbody tr th {\n",
              "        vertical-align: top;\n",
              "    }\n",
              "\n",
              "    .dataframe thead th {\n",
              "        text-align: right;\n",
              "    }\n",
              "</style>\n",
              "<table border=\"1\" class=\"dataframe\">\n",
              "  <thead>\n",
              "    <tr style=\"text-align: right;\">\n",
              "      <th></th>\n",
              "      <th>count</th>\n",
              "      <th>mean</th>\n",
              "    </tr>\n",
              "    <tr>\n",
              "      <th>sexo</th>\n",
              "      <th></th>\n",
              "      <th></th>\n",
              "    </tr>\n",
              "  </thead>\n",
              "  <tbody>\n",
              "    <tr>\n",
              "      <th>Feminino</th>\n",
              "      <td>136.0</td>\n",
              "      <td>5099.26</td>\n",
              "    </tr>\n",
              "    <tr>\n",
              "      <th>Masculino</th>\n",
              "      <td>614.0</td>\n",
              "      <td>6218.24</td>\n",
              "    </tr>\n",
              "  </tbody>\n",
              "</table>\n",
              "</div>"
            ],
            "text/plain": [
              "           count     mean\n",
              "sexo                     \n",
              "Feminino   136.0  5099.26\n",
              "Masculino  614.0  6218.24"
            ]
          },
          "metadata": {
            "tags": []
          },
          "execution_count": 20
        }
      ]
    },
    {
      "cell_type": "code",
      "metadata": {
        "colab": {
          "base_uri": "https://localhost:8080/",
          "height": 311
        },
        "id": "52cmzX-p7DkY",
        "outputId": "7c06c72b-ec91-4a3c-ddcd-2290396c141e"
      },
      "source": [
        "pds['salario'].groupby(pds['sexo']).describe()[['count']].round(2).plot(kind = 'pie', subplots = True, title = 'Proporção de Gênero')"
      ],
      "execution_count": 84,
      "outputs": [
        {
          "output_type": "execute_result",
          "data": {
            "text/plain": [
              "array([<matplotlib.axes._subplots.AxesSubplot object at 0x7f316aaa79d0>],\n",
              "      dtype=object)"
            ]
          },
          "metadata": {
            "tags": []
          },
          "execution_count": 84
        },
        {
          "output_type": "display_data",
          "data": {
            "image/png": "[encoded data removed]",
            "text/plain": [
              "<Figure size 432x288 with 1 Axes>"
            ]
          },
          "metadata": {
            "tags": []
          }
        }
      ]
    },
    {
      "cell_type": "markdown",
      "metadata": {
        "id": "jyRfod1d8dWn"
      },
      "source": [
        "Um ponto importante a se levar em considerar é a proporção do gêneros dos profissionais de dados, onde apenas 18% são Mulheres e ganham em média R$ 1.100,00 reais a menos que os Homens. Não apenas isso, a concentração de profissionais de dados são 82% do gênero masculino."
      ]
    },
    {
      "cell_type": "code",
      "metadata": {
        "colab": {
          "base_uri": "https://localhost:8080/"
        },
        "id": "4siL1CqGcae9",
        "outputId": "08a6163c-6501-45ba-aaba-98ee22037dbb"
      },
      "source": [
        "cds.groupby(['sexo', 'tamanho_da_empresa']).mean()['salario'].round(2)"
      ],
      "execution_count": 88,
      "outputs": [
        {
          "output_type": "execute_result",
          "data": {
            "text/plain": [
              "sexo       tamanho_da_empresa\n",
              "Feminino   Grande                8785.71\n",
              "           Média                 5352.94\n",
              "           Pequena               3785.71\n",
              "Masculino  Grande                8118.18\n",
              "           Média                 7839.29\n",
              "           Pequena               5060.00\n",
              "Name: salario, dtype: float64"
            ]
          },
          "metadata": {
            "tags": []
          },
          "execution_count": 88
        }
      ]
    },
    {
      "cell_type": "markdown",
      "metadata": {
        "id": "53G9rbWU-7je"
      },
      "source": [
        "Por outro lado, quando olhamos o porte das empresas em que trabalham, Mulheres que são de empresas de Grande Porte, ganham em média 8% a mais que Homens ao serem Cientistas de Dados."
      ]
    },
    {
      "cell_type": "markdown",
      "metadata": {
        "id": "XjV0nXDiiZAC"
      },
      "source": [
        "### **4.2 Tempo de Experiência**"
      ]
    },
    {
      "cell_type": "code",
      "metadata": {
        "colab": {
          "base_uri": "https://localhost:8080/"
        },
        "id": "zrPmPkKpr9Pq",
        "outputId": "b25871cb-947c-468c-8ee6-dc661c71c665"
      },
      "source": [
        "pds['profissao'].groupby(pds['experiencia_ds']).count()"
      ],
      "execution_count": 22,
      "outputs": [
        {
          "output_type": "execute_result",
          "data": {
            "text/plain": [
              "experiencia_ds\n",
              "Até 1 ano           186\n",
              "De 1 a 3 anos       321\n",
              "De 3 a 5 anos       100\n",
              "Maior que 5 anos    130\n",
              "Sem Experiência      14\n",
              "Name: profissao, dtype: int64"
            ]
          },
          "metadata": {
            "tags": []
          },
          "execution_count": 22
        }
      ]
    },
    {
      "cell_type": "code",
      "metadata": {
        "colab": {
          "base_uri": "https://localhost:8080/"
        },
        "id": "1gWJmf54shY7",
        "outputId": "5bc76b41-368d-4052-db70-0d3459ea37d5"
      },
      "source": [
        "pds.groupby(['profissao', 'experiencia_ds']).count()['sexo']"
      ],
      "execution_count": 23,
      "outputs": [
        {
          "output_type": "execute_result",
          "data": {
            "text/plain": [
              "profissao            experiencia_ds  \n",
              "Analista de BI       Até 1 ano            72\n",
              "                     De 1 a 3 anos        95\n",
              "                     De 3 a 5 anos        28\n",
              "                     Maior que 5 anos     47\n",
              "                     Sem Experiência       9\n",
              "Analista de Dados    Até 1 ano            44\n",
              "                     De 1 a 3 anos        70\n",
              "                     De 3 a 5 anos        23\n",
              "                     Maior que 5 anos     25\n",
              "                     Sem Experiência       1\n",
              "Cientista de Dados   Até 1 ano            39\n",
              "                     De 1 a 3 anos       101\n",
              "                     De 3 a 5 anos        27\n",
              "                     Maior que 5 anos     24\n",
              "                     Sem Experiência       1\n",
              "Engenheiro de Dados  Até 1 ano            30\n",
              "                     De 1 a 3 anos        55\n",
              "                     De 3 a 5 anos        22\n",
              "                     Maior que 5 anos     34\n",
              "                     Sem Experiência       3\n",
              "Name: sexo, dtype: int64"
            ]
          },
          "metadata": {
            "tags": []
          },
          "execution_count": 23
        }
      ]
    },
    {
      "cell_type": "code",
      "metadata": {
        "colab": {
          "base_uri": "https://localhost:8080/",
          "height": 298
        },
        "id": "DDoQw94P9W_w",
        "outputId": "48f03535-8792-461b-9c2c-8f54dcd74b32"
      },
      "source": [
        "pds['profissao'].groupby(pds['experiencia_ds']).count().plot(kind = 'barh', color = 'orange', edgecolor = 'black', title = 'Tempo de Experiência')"
      ],
      "execution_count": 96,
      "outputs": [
        {
          "output_type": "execute_result",
          "data": {
            "text/plain": [
              "<matplotlib.axes._subplots.AxesSubplot at 0x7f316a6e8cd0>"
            ]
          },
          "metadata": {
            "tags": []
          },
          "execution_count": 96
        },
        {
          "output_type": "display_data",
          "data": {
            "image/png": "[encoded data removed]",
            "text/plain": [
              "<Figure size 432x288 with 1 Axes>"
            ]
          },
          "metadata": {
            "tags": [],
            "needs_background": "light"
          }
        }
      ]
    },
    {
      "cell_type": "markdown",
      "metadata": {
        "id": "69sWMdMM7gAW"
      },
      "source": [
        "Os profissinais de dados possuem ainda um curto período de experiência: até 3 anos, 69% estão na faixa de até 3 anos e ao aprofundar um pouco mais, constatamos que 43% estão na faixa de 1 a 3 anos de experiência.\n",
        "Muitos desses profissionais estão saindo do primeiro ano de experiência."
      ]
    },
    {
      "cell_type": "markdown",
      "metadata": {
        "id": "6qMZv8-iitVy"
      },
      "source": [
        "### **4.3 Porte das empresas em que trabalham**"
      ]
    },
    {
      "cell_type": "code",
      "metadata": {
        "colab": {
          "base_uri": "https://localhost:8080/"
        },
        "id": "QH7UzkWVuszY",
        "outputId": "4c2619dd-a4a1-40ce-a6c7-cba9bd62da42"
      },
      "source": [
        "pds['profissao'].groupby(pds['tamanho_da_empresa']).count()"
      ],
      "execution_count": 24,
      "outputs": [
        {
          "output_type": "execute_result",
          "data": {
            "text/plain": [
              "tamanho_da_empresa\n",
              "Grande     289\n",
              "Média      289\n",
              "Pequena    173\n",
              "Name: profissao, dtype: int64"
            ]
          },
          "metadata": {
            "tags": []
          },
          "execution_count": 24
        }
      ]
    },
    {
      "cell_type": "markdown",
      "metadata": {
        "id": "MV3C6r5F-Hn2"
      },
      "source": [
        "As empresas de Grande e Médio porte concentram 77% dos profissionais de Dados."
      ]
    },
    {
      "cell_type": "code",
      "metadata": {
        "colab": {
          "base_uri": "https://localhost:8080/"
        },
        "id": "FDYPNlovwP1A",
        "outputId": "1d8d6820-0f98-49e3-e3fa-ddb9bcd84618"
      },
      "source": [
        "pds.groupby(['profissao', 'tamanho_da_empresa']).count()['sexo']"
      ],
      "execution_count": 25,
      "outputs": [
        {
          "output_type": "execute_result",
          "data": {
            "text/plain": [
              "profissao            tamanho_da_empresa\n",
              "Analista de BI       Grande                114\n",
              "                     Média                  91\n",
              "                     Pequena                46\n",
              "Analista de Dados    Grande                 61\n",
              "                     Média                  65\n",
              "                     Pequena                37\n",
              "Cientista de Dados   Grande                 62\n",
              "                     Média                  73\n",
              "                     Pequena                57\n",
              "Engenheiro de Dados  Grande                 51\n",
              "                     Média                  60\n",
              "                     Pequena                33\n",
              "Name: sexo, dtype: int64"
            ]
          },
          "metadata": {
            "tags": []
          },
          "execution_count": 25
        }
      ]
    },
    {
      "cell_type": "code",
      "metadata": {
        "colab": {
          "base_uri": "https://localhost:8080/",
          "height": 346
        },
        "id": "M2B8WiJe-1-u",
        "outputId": "86765adc-528a-4535-eb18-a49579d9bcc7"
      },
      "source": [
        "pds.groupby(['tamanho_da_empresa']).count()['sexo'].plot(kind = 'bar', color = 'pink', edgecolor = 'red', title = 'Distribuição de Profissionais por Porte de Empresa')"
      ],
      "execution_count": 106,
      "outputs": [
        {
          "output_type": "execute_result",
          "data": {
            "text/plain": [
              "<matplotlib.axes._subplots.AxesSubplot at 0x7f315a284290>"
            ]
          },
          "metadata": {
            "tags": []
          },
          "execution_count": 106
        },
        {
          "output_type": "display_data",
          "data": {
            "image/png": "[encoded data removed]",
            "text/plain": [
              "<Figure size 432x288 with 1 Axes>"
            ]
          },
          "metadata": {
            "tags": [],
            "needs_background": "light"
          }
        }
      ]
    },
    {
      "cell_type": "code",
      "metadata": {
        "colab": {
          "base_uri": "https://localhost:8080/"
        },
        "id": "_t6d1JIPj3TX",
        "outputId": "5017a727-a60b-4457-f493-ae4f34496b43"
      },
      "source": [
        "pds.groupby(['profissao']).count()['sexo']"
      ],
      "execution_count": 53,
      "outputs": [
        {
          "output_type": "execute_result",
          "data": {
            "text/plain": [
              "profissao\n",
              "Analista de BI         251\n",
              "Analista de Dados      163\n",
              "Cientista de Dados     192\n",
              "Engenheiro de Dados    144\n",
              "Name: sexo, dtype: int64"
            ]
          },
          "metadata": {
            "tags": []
          },
          "execution_count": 53
        }
      ]
    },
    {
      "cell_type": "markdown",
      "metadata": {
        "id": "yENZxLeEkbAd"
      },
      "source": [
        "De forma geral, as empresas, independente de seu porte, possuem profissionais em sua maioria de perfil de BI\n",
        "\n",
        "Temos uma média de 33% dos profissionais de BI, 1/3 de todo dataset."
      ]
    },
    {
      "cell_type": "markdown",
      "metadata": {
        "id": "dF5w4hQrj8N5"
      },
      "source": [
        "### **4.4 Habilidades**\n",
        "\n",
        "Este tópico irá proporcionar uma perspectiva das habilidades que cada perfil tem foco.\n",
        "\n",
        "A EDA a seguir contribui para aspirantes que desejam ingressar na área, conhecendo um pouco de cada perfil e planejar sua carreira profissional, assim como empresas e recrutadores podem ter em mãos o conhecimento e traçar planejamento do tipo de profissional que buscam."
      ]
    },
    {
      "cell_type": "markdown",
      "metadata": {
        "id": "Iu_VLNZ-_UXN"
      },
      "source": [
        "#### **4.4.1 Métodos mais usados**\n",
        "\n",
        "A partir da classificação profissional refinada, uma comparação entre Cientista de Dados, Analista de Dados e Analista de BI mostrará quais métodos que cada profissional mais usa em sua rotina de trabalho."
      ]
    },
    {
      "cell_type": "code",
      "metadata": {
        "colab": {
          "base_uri": "https://localhost:8080/"
        },
        "id": "8H32CRxMd1O4",
        "outputId": "b208aa77-bc4e-40cf-c399-042e95e297f8"
      },
      "source": [
        "cds.filter(regex = 'P20').sum().sort_values(ascending = False)/cds.shape[0]"
      ],
      "execution_count": 26,
      "outputs": [
        {
          "output_type": "execute_result",
          "data": {
            "text/plain": [
              "('P20', 'linear_regression')             0.740933\n",
              "('P20', 'logistic_regression')           0.673575\n",
              "('P20', 'decision_tree')                 0.652850\n",
              "('P20', 'random_forest')                 0.647668\n",
              "('P20', 'cluster_analysis')              0.601036\n",
              "('P20', 'neural_networks')               0.461140\n",
              "('P20', 'gradient_boosted_machines')     0.445596\n",
              "('P20', 'ensemble')                      0.398964\n",
              "('P20', 'nlp')                           0.352332\n",
              "('P20', 'bayesian_inference')            0.321244\n",
              "('P20', 'svms')                          0.305699\n",
              "('P20', 'glms')                          0.290155\n",
              "('P20', 'rnns')                          0.181347\n",
              "('P20', 'longitudinal_data_analysis')    0.176166\n",
              "('P20', 'cnns')                          0.165803\n",
              "('P20', 'markov_chains')                 0.134715\n",
              "('P20', 'survival_analysis')             0.134715\n",
              "('P20', 'joint analysis')                0.067358\n",
              "('P20', 'gans')                          0.046632\n",
              "('P20', 'hmms')                          0.041451\n",
              "('P20', 'no_listed_methods')             0.036269\n",
              "dtype: float64"
            ]
          },
          "metadata": {
            "tags": []
          },
          "execution_count": 26
        }
      ]
    },
    {
      "cell_type": "markdown",
      "metadata": {
        "id": "7Pu3_csgCjb0"
      },
      "source": [
        " O output nos mostra claramente que para um Cientista de Dados os três métodos mais utilizados são:\n",
        "\n",
        "1.   Regressão Linear\n",
        "2.   Regressão Logística\n",
        "3.   Árvore de Decisão"
      ]
    },
    {
      "cell_type": "code",
      "metadata": {
        "colab": {
          "base_uri": "https://localhost:8080/"
        },
        "id": "fVfw4s7Cfvux",
        "outputId": "2f6b7e07-f65d-4903-c60a-f877bf35e4fb"
      },
      "source": [
        "ads.filter(regex = 'P20').sum().sort_values(ascending = False)/ads.shape[0]"
      ],
      "execution_count": 27,
      "outputs": [
        {
          "output_type": "execute_result",
          "data": {
            "text/plain": [
              "('P20', 'linear_regression')             0.361963\n",
              "('P20', 'logistic_regression')           0.300613\n",
              "('P20', 'decision_tree')                 0.276074\n",
              "('P20', 'cluster_analysis')              0.251534\n",
              "('P20', 'no_listed_methods')             0.251534\n",
              "('P20', 'random_forest')                 0.214724\n",
              "('P20', 'bayesian_inference')            0.159509\n",
              "('P20', 'nlp')                           0.141104\n",
              "('P20', 'joint analysis')                0.067485\n",
              "('P20', 'svms')                          0.067485\n",
              "('P20', 'neural_networks')               0.067485\n",
              "('P20', 'gradient_boosted_machines')     0.055215\n",
              "('P20', 'glms')                          0.055215\n",
              "('P20', 'ensemble')                      0.042945\n",
              "('P20', 'survival_analysis')             0.042945\n",
              "('P20', 'longitudinal_data_analysis')    0.036810\n",
              "('P20', 'markov_chains')                 0.030675\n",
              "('P20', 'cnns')                          0.024540\n",
              "('P20', 'rnns')                          0.012270\n",
              "('P20', 'gans')                          0.000000\n",
              "('P20', 'hmms')                          0.000000\n",
              "dtype: float64"
            ]
          },
          "metadata": {
            "tags": []
          },
          "execution_count": 27
        }
      ]
    },
    {
      "cell_type": "markdown",
      "metadata": {
        "id": "ZNoEZNJPC_Ha"
      },
      "source": [
        "O Analista de Dados possui métodos iguais aos de um Cientista de Dados, porém a frequência de uso em análise de dados é a metade usada na ciência de dados."
      ]
    },
    {
      "cell_type": "code",
      "metadata": {
        "colab": {
          "base_uri": "https://localhost:8080/"
        },
        "id": "M8M8-2Iohrlw",
        "outputId": "bff039c2-ceb1-4cab-f315-436b0b9a46bd"
      },
      "source": [
        "abi.filter(regex = 'P20').sum().sort_values(ascending = False)/eds.shape[0]"
      ],
      "execution_count": 28,
      "outputs": [
        {
          "output_type": "execute_result",
          "data": {
            "text/plain": [
              "('P20', 'no_listed_methods')             0.347222\n",
              "('P20', 'linear_regression')             0.326389\n",
              "('P20', 'decision_tree')                 0.229167\n",
              "('P20', 'cluster_analysis')              0.194444\n",
              "('P20', 'logistic_regression')           0.180556\n",
              "('P20', 'nlp')                           0.131944\n",
              "('P20', 'bayesian_inference')            0.111111\n",
              "('P20', 'neural_networks')               0.111111\n",
              "('P20', 'random_forest')                 0.097222\n",
              "('P20', 'markov_chains')                 0.041667\n",
              "('P20', 'glms')                          0.041667\n",
              "('P20', 'joint analysis')                0.041667\n",
              "('P20', 'svms')                          0.041667\n",
              "('P20', 'longitudinal_data_analysis')    0.034722\n",
              "('P20', 'cnns')                          0.034722\n",
              "('P20', 'gradient_boosted_machines')     0.034722\n",
              "('P20', 'survival_analysis')             0.020833\n",
              "('P20', 'rnns')                          0.013889\n",
              "('P20', 'ensemble')                      0.006944\n",
              "('P20', 'hmms')                          0.000000\n",
              "('P20', 'gans')                          0.000000\n",
              "dtype: float64"
            ]
          },
          "metadata": {
            "tags": []
          },
          "execution_count": 28
        }
      ]
    },
    {
      "cell_type": "markdown",
      "metadata": {
        "id": "vF2Pn50SD73D"
      },
      "source": [
        "Um Analista de BI embora use Regressão Linear e Árvore de decisão (mesmos métodos dos dois tipos de profissionais citados anteriormente), tem em seu arcabouço outros métodos não listados."
      ]
    },
    {
      "cell_type": "code",
      "metadata": {
        "colab": {
          "base_uri": "https://localhost:8080/"
        },
        "id": "JvBnK_PDhuDJ",
        "outputId": "bd171e1a-bf13-4407-d2cb-305f638d4f0f"
      },
      "source": [
        "pds.filter(regex = 'P20').sum().sort_values(ascending = False)/pds.shape[0]"
      ],
      "execution_count": 29,
      "outputs": [
        {
          "output_type": "execute_result",
          "data": {
            "text/plain": [
              "('P20', 'linear_regression')             0.383489\n",
              "('P20', 'decision_tree')                 0.306258\n",
              "('P20', 'logistic_regression')           0.300932\n",
              "('P20', 'cluster_analysis')              0.274301\n",
              "('P20', 'random_forest')                 0.262317\n",
              "('P20', 'no_listed_methods')             0.186418\n",
              "('P20', 'neural_networks')               0.178429\n",
              "('P20', 'nlp')                           0.177097\n",
              "('P20', 'bayesian_inference')            0.158455\n",
              "('P20', 'gradient_boosted_machines')     0.143808\n",
              "('P20', 'ensemble')                      0.123835\n",
              "('P20', 'svms')                          0.111851\n",
              "('P20', 'glms')                          0.097204\n",
              "('P20', 'cnns')                          0.063915\n",
              "('P20', 'longitudinal_data_analysis')    0.062583\n",
              "('P20', 'rnns')                          0.059920\n",
              "('P20', 'markov_chains')                 0.051931\n",
              "('P20', 'survival_analysis')             0.050599\n",
              "('P20', 'joint analysis')                0.047936\n",
              "('P20', 'hmms')                          0.013316\n",
              "('P20', 'gans')                          0.011984\n",
              "dtype: float64"
            ]
          },
          "metadata": {
            "tags": []
          },
          "execution_count": 29
        }
      ]
    },
    {
      "cell_type": "markdown",
      "metadata": {
        "id": "A4IJC3GFHWJh"
      },
      "source": [
        "De forma geral, o profissional de dados tem no output acima os métodos mais utilizados na rotina de trabalho.\n",
        "\n",
        "Ressaltando métodos como:\n",
        "\n",
        "\n",
        "1.   Regressão Linear;\n",
        "2.   Árvore de Decisão;\n",
        "3.   Regressão Logística;\n",
        "\n",
        "Essas três metodologias são os 20% dos 80%, ou seja, evidenciamos que os profissionais de dados que desejam crescer na área devem focar no aprendizado desses métodos, pois são os que mais trazem soluções de negócios para as empresas, assim como as empresas podem buscar profissionais com expertise nessas técnicas a fim de integrar um novo profissional que contribua com o crescimento da companhia.\n"
      ]
    },
    {
      "cell_type": "markdown",
      "metadata": {
        "id": "zn3GfUuyJRpd"
      },
      "source": [
        "#### **4.4.2 Linguagem de Programação**\n",
        "\n",
        "A seguir temos a comparação das linguagens de programação mais usadas."
      ]
    },
    {
      "cell_type": "code",
      "metadata": {
        "colab": {
          "base_uri": "https://localhost:8080/"
        },
        "id": "NxlBjWyehwvf",
        "outputId": "bc9723dc-26f2-4300-96a2-e6fbf419d291"
      },
      "source": [
        "cds.filter(regex = 'P21').sum().sort_values(ascending = False)/cds.shape[0]"
      ],
      "execution_count": 30,
      "outputs": [
        {
          "output_type": "execute_result",
          "data": {
            "text/plain": [
              "('P21', 'python')                 0.896373\n",
              "('P21', 'sql_')                   0.730570\n",
              "('P21', 'r')                      0.383420\n",
              "('P21', 'sas_stata')              0.088083\n",
              "('P21', 'scala')                  0.082902\n",
              "('P21', 'visual_basic_vba')       0.051813\n",
              "('P21', 'java')                   0.041451\n",
              "('P21', 'c_c++_c#')               0.031088\n",
              "('P21', 'matlab')                 0.025907\n",
              "('P21', 'julia')                  0.010363\n",
              "('P21', 'dotnet')                 0.010363\n",
              "('P21', 'php')                    0.005181\n",
              "('P21', 'no_listed_languages')    0.000000\n",
              "dtype: float64"
            ]
          },
          "metadata": {
            "tags": []
          },
          "execution_count": 30
        }
      ]
    },
    {
      "cell_type": "markdown",
      "metadata": {
        "id": "UM_--SteJsUV"
      },
      "source": [
        "Python, SQL e R são as linguagens predominantes e principais de um Cientista de Dados."
      ]
    },
    {
      "cell_type": "code",
      "metadata": {
        "colab": {
          "base_uri": "https://localhost:8080/"
        },
        "id": "Lt4hrD4Dh9G9",
        "outputId": "54fc57c9-2bf8-4a68-a5b2-8becdb0e2a1f"
      },
      "source": [
        "ads.filter(regex = 'P21').sum().sort_values(ascending = False)/ads.shape[0]"
      ],
      "execution_count": 31,
      "outputs": [
        {
          "output_type": "execute_result",
          "data": {
            "text/plain": [
              "('P21', 'sql_')                   0.723926\n",
              "('P21', 'python')                 0.662577\n",
              "('P21', 'r')                      0.233129\n",
              "('P21', 'visual_basic_vba')       0.092025\n",
              "('P21', 'sas_stata')              0.073620\n",
              "('P21', 'php')                    0.061350\n",
              "('P21', 'c_c++_c#')               0.055215\n",
              "('P21', 'java')                   0.049080\n",
              "('P21', 'matlab')                 0.030675\n",
              "('P21', 'scala')                  0.030675\n",
              "('P21', 'dotnet')                 0.012270\n",
              "('P21', 'julia')                  0.006135\n",
              "('P21', 'no_listed_languages')    0.000000\n",
              "dtype: float64"
            ]
          },
          "metadata": {
            "tags": []
          },
          "execution_count": 31
        }
      ]
    },
    {
      "cell_type": "markdown",
      "metadata": {
        "id": "CHizdogkKevA"
      },
      "source": [
        "Um Analista de Dados usa de forma quase igual a um Cientista de Dados a linguagem SQL (não chega a 1% de diferença), entretando para um Analista de Dados, o SQL é seu carro de chefe em comparação ao Cientista que tem como primeiro lugar o Python (uma diferença de 23%)."
      ]
    },
    {
      "cell_type": "code",
      "metadata": {
        "colab": {
          "base_uri": "https://localhost:8080/"
        },
        "id": "oImJsyZ1JZnV",
        "outputId": "99d0b848-affe-46ed-c1d3-5bea9ed32977"
      },
      "source": [
        "abi.filter(regex = 'P21').sum().sort_values(ascending = False)/ads.shape[0]"
      ],
      "execution_count": 32,
      "outputs": [
        {
          "output_type": "execute_result",
          "data": {
            "text/plain": [
              "('P21', 'sql_')                   0.588957\n",
              "('P21', 'python')                 0.441718\n",
              "('P21', 'r')                      0.202454\n",
              "('P21', 'visual_basic_vba')       0.085890\n",
              "('P21', 'sas_stata')              0.061350\n",
              "('P21', 'java')                   0.024540\n",
              "('P21', 'c_c++_c#')               0.024540\n",
              "('P21', 'no_listed_languages')    0.018405\n",
              "('P21', 'php')                    0.018405\n",
              "('P21', 'dotnet')                 0.018405\n",
              "('P21', 'matlab')                 0.012270\n",
              "('P21', 'scala')                  0.012270\n",
              "('P21', 'julia')                  0.006135\n",
              "dtype: float64"
            ]
          },
          "metadata": {
            "tags": []
          },
          "execution_count": 32
        }
      ]
    },
    {
      "cell_type": "markdown",
      "metadata": {
        "id": "nA1-1ligLK1c"
      },
      "source": [
        "Os Analistas de BI tem quase que empatado (com diferença de 15%) e majoritário (em comparação as demais linguagens), o uso de SQL e Python."
      ]
    },
    {
      "cell_type": "code",
      "metadata": {
        "colab": {
          "base_uri": "https://localhost:8080/"
        },
        "id": "uBzGurQ_jPsU",
        "outputId": "2d320210-a2c7-4f96-dd76-d834752313b5"
      },
      "source": [
        "pds.filter(regex = 'P21').sum().sort_values(ascending = False)/pds.shape[0]"
      ],
      "execution_count": 33,
      "outputs": [
        {
          "output_type": "execute_result",
          "data": {
            "text/plain": [
              "('P21', 'python')                 0.595206\n",
              "('P21', 'sql_')                   0.588549\n",
              "('P21', 'r')                      0.214381\n",
              "('P21', 'scala')                  0.057257\n",
              "('P21', 'sas_stata')              0.055925\n",
              "('P21', 'visual_basic_vba')       0.054594\n",
              "('P21', 'java')                   0.047936\n",
              "('P21', 'c_c++_c#')               0.034621\n",
              "('P21', 'php')                    0.023968\n",
              "('P21', 'matlab')                 0.015979\n",
              "('P21', 'dotnet')                 0.013316\n",
              "('P21', 'julia')                  0.005326\n",
              "('P21', 'no_listed_languages')    0.003995\n",
              "dtype: float64"
            ]
          },
          "metadata": {
            "tags": []
          },
          "execution_count": 33
        }
      ]
    },
    {
      "cell_type": "markdown",
      "metadata": {
        "id": "fsNhhIfTLmrd"
      },
      "source": [
        "Em síntese, Python, SQL e R são as linguagens predominantes para um profissional da área de Dados."
      ]
    },
    {
      "cell_type": "code",
      "metadata": {
        "colab": {
          "base_uri": "https://localhost:8080/"
        },
        "id": "_ofxwKO4jRhu",
        "outputId": "84a407dd-7ad4-4e39-c995-fa5565dff8e2"
      },
      "source": [
        "cds[(cds[\"('P21', 'r')\"] == 1) &\n",
        "    (cds[\"('P21', 'python')\"] == 0) &\n",
        "    (cds[\"('P21', 'sql_')\"] == 0)]['salario'].describe().round(2)"
      ],
      "execution_count": 34,
      "outputs": [
        {
          "output_type": "execute_result",
          "data": {
            "text/plain": [
              "count        3.00\n",
              "mean      6000.00\n",
              "std       6946.22\n",
              "min       1500.00\n",
              "25%       2000.00\n",
              "50%       2500.00\n",
              "75%       8250.00\n",
              "max      14000.00\n",
              "Name: salario, dtype: float64"
            ]
          },
          "metadata": {
            "tags": []
          },
          "execution_count": 34
        }
      ]
    },
    {
      "cell_type": "markdown",
      "metadata": {
        "id": "BSj5TuKaL1ht"
      },
      "source": [
        "Raros os casos em que um Cientista de Dados usa exclusivamente linguagem R. Apenas 3 casos, sendo estes profissionais com média salarial de R$ 6000,00\n",
        "\n",
        "*oberservar count que é a quantidade de profissionais*"
      ]
    },
    {
      "cell_type": "code",
      "metadata": {
        "colab": {
          "base_uri": "https://localhost:8080/"
        },
        "id": "0va2PN0RkxF0",
        "outputId": "d783d54f-c86e-479e-bc52-55164ecf1fea"
      },
      "source": [
        "cds[(cds[\"('P21', 'r')\"] == 0) &\n",
        "    (cds[\"('P21', 'python')\"] == 1) &\n",
        "    (cds[\"('P21', 'sql_')\"] == 1)]['salario'].describe().round(2)"
      ],
      "execution_count": 35,
      "outputs": [
        {
          "output_type": "execute_result",
          "data": {
            "text/plain": [
              "count       75.00\n",
              "mean      7006.67\n",
              "std       4458.13\n",
              "min       1000.00\n",
              "25%       5000.00\n",
              "50%       5000.00\n",
              "75%      10000.00\n",
              "max      22500.00\n",
              "Name: salario, dtype: float64"
            ]
          },
          "metadata": {
            "tags": []
          },
          "execution_count": 35
        }
      ]
    },
    {
      "cell_type": "markdown",
      "metadata": {
        "id": "3BKZaGOzMJyr"
      },
      "source": [
        "39% dos Cientistas de Dados usam tanto Python quanto SQL, mas não usam R, uma parcela considerável."
      ]
    },
    {
      "cell_type": "code",
      "metadata": {
        "colab": {
          "base_uri": "https://localhost:8080/"
        },
        "id": "O4zSZWCglRes",
        "outputId": "067760e2-4913-4de0-ba1d-8e710c520864"
      },
      "source": [
        "cds[(cds[\"('P21', 'r')\"] == 1) &\n",
        "    (cds[\"('P21', 'python')\"] == 1) &\n",
        "    (cds[\"('P21', 'sql_')\"] == 1)]['salario'].describe().round(2)"
      ],
      "execution_count": 36,
      "outputs": [
        {
          "output_type": "execute_result",
          "data": {
            "text/plain": [
              "count       56.00\n",
              "mean      6776.79\n",
              "std       3971.40\n",
              "min       1500.00\n",
              "25%       3500.00\n",
              "50%       6000.00\n",
              "75%      10000.00\n",
              "max      18000.00\n",
              "Name: salario, dtype: float64"
            ]
          },
          "metadata": {
            "tags": []
          },
          "execution_count": 36
        }
      ]
    },
    {
      "cell_type": "markdown",
      "metadata": {
        "id": "YClPqREJMurc"
      },
      "source": [
        "29% dos Cientistas de Dados usam as três linguagens principais."
      ]
    },
    {
      "cell_type": "code",
      "metadata": {
        "colab": {
          "base_uri": "https://localhost:8080/"
        },
        "id": "kRnsK6r8lbID",
        "outputId": "9937b05c-f68e-4bf8-c1f5-0f4ab7d6cbe7"
      },
      "source": [
        "cds[(cds[\"('P21', 'r')\"] == 1) &\n",
        "    (cds[\"('P21', 'python')\"] == 1)]['salario'].describe().round(2)"
      ],
      "execution_count": 37,
      "outputs": [
        {
          "output_type": "execute_result",
          "data": {
            "text/plain": [
              "count       65.00\n",
              "mean      7138.46\n",
              "std       4479.56\n",
              "min       1500.00\n",
              "25%       3500.00\n",
              "50%       7000.00\n",
              "75%      10000.00\n",
              "max      25000.00\n",
              "Name: salario, dtype: float64"
            ]
          },
          "metadata": {
            "tags": []
          },
          "execution_count": 37
        }
      ]
    },
    {
      "cell_type": "markdown",
      "metadata": {
        "id": "PK9dulr2NS8b"
      },
      "source": [
        "34% dos Cientistas de Dados afirmam usar tanto Python como R."
      ]
    },
    {
      "cell_type": "code",
      "metadata": {
        "colab": {
          "base_uri": "https://localhost:8080/"
        },
        "id": "oztwbsxpld0A",
        "outputId": "56cede67-1fcb-4ed2-cc85-81f4c1076dd4"
      },
      "source": [
        "cds[(cds[\"('P21', 'r')\"] == 1) &\n",
        "    (cds[\"('P21', 'python')\"] == 0)]['salario'].describe().round(2)"
      ],
      "execution_count": 38,
      "outputs": [
        {
          "output_type": "execute_result",
          "data": {
            "text/plain": [
              "count        9.00\n",
              "mean      5111.11\n",
              "std       4350.13\n",
              "min       1500.00\n",
              "25%       2500.00\n",
              "50%       3500.00\n",
              "75%       7000.00\n",
              "max      14000.00\n",
              "Name: salario, dtype: float64"
            ]
          },
          "metadata": {
            "tags": []
          },
          "execution_count": 38
        }
      ]
    },
    {
      "cell_type": "markdown",
      "metadata": {
        "id": "ZMJEplxoNo8i"
      },
      "source": [
        "Perfil salarial do Cientista de Dados que usa R mas não usa Python tem como média R$ 5111,11, apenas 09 profissionais, um público bem específico.\n",
        "\n",
        "*observar o mean que é a média*"
      ]
    },
    {
      "cell_type": "code",
      "metadata": {
        "colab": {
          "base_uri": "https://localhost:8080/"
        },
        "id": "q_JSOGFoli4g",
        "outputId": "d48686f7-d8e5-4655-9578-75f66ff19aac"
      },
      "source": [
        "cds[(cds[\"('P21', 'r')\"] == 0) &\n",
        "    (cds[\"('P21', 'python')\"] == 1)]['salario'].describe().round(2)"
      ],
      "execution_count": 39,
      "outputs": [
        {
          "output_type": "execute_result",
          "data": {
            "text/plain": [
              "count      108.00\n",
              "mean      6736.11\n",
              "std       4621.39\n",
              "min       1000.00\n",
              "25%       3500.00\n",
              "50%       5000.00\n",
              "75%      10000.00\n",
              "max      25000.00\n",
              "Name: salario, dtype: float64"
            ]
          },
          "metadata": {
            "tags": []
          },
          "execution_count": 39
        }
      ]
    },
    {
      "cell_type": "markdown",
      "metadata": {
        "id": "AycUjlAtNxRi"
      },
      "source": [
        "Inversamente, temos o perfil salarial do Cientista de Dados que usa Python mas não usa R, uma média superior em R$ 1.625,00, com uma população 92% superior.\n",
        "\n",
        "*observar o mean que é a média*"
      ]
    },
    {
      "cell_type": "markdown",
      "metadata": {
        "id": "3O1B3os8N5lx"
      },
      "source": [
        "#### **4.4.3 Data Visualization**\n",
        "\n",
        "Não apenas saber de modelos de ML (Machine Learning) e linguagem de programação. É importante saber mostrar as informações atráves de algum gráfico, por isso, a seguir temos a ferramenta que os profissionais mais usam e que consequentemente o mercado aderiu."
      ]
    },
    {
      "cell_type": "code",
      "metadata": {
        "colab": {
          "base_uri": "https://localhost:8080/"
        },
        "id": "Ko6q_wNBmJ2o",
        "outputId": "536ceb38-0bb8-4daf-e2f2-08f7279a4587"
      },
      "source": [
        "cds.filter(regex = 'P27').sum().sort_values(ascending = False)/cds.shape[0]"
      ],
      "execution_count": 40,
      "outputs": [
        {
          "output_type": "execute_result",
          "data": {
            "text/plain": [
              "('P27', 'microsoft_powerbi')               0.336788\n",
              "('P27', 'no_bi_tool_at_work')              0.217617\n",
              "('P27', 'metabase')                        0.186528\n",
              "('P27', 'tableau')                         0.176166\n",
              "('P27', 'google_data_studio')              0.134715\n",
              "('P27', 'qlik_view_qlik_sense')            0.088083\n",
              "('P27', 'other')                           0.077720\n",
              "('P27', 'only_excel_gsheets')              0.077720\n",
              "('P27', 'redash')                          0.041451\n",
              "('P27', 'ibm_analytics_cognos')            0.025907\n",
              "('P27', 'microstrategy')                   0.020725\n",
              "('P27', 'superset')                        0.020725\n",
              "('P27', 'looker')                          0.015544\n",
              "('P27', 'oracle_business_intelligence')    0.005181\n",
              "('P27', 'sap_business_objects')            0.005181\n",
              "('P27', 'birst')                           0.000000\n",
              "dtype: float64"
            ]
          },
          "metadata": {
            "tags": []
          },
          "execution_count": 40
        }
      ]
    },
    {
      "cell_type": "markdown",
      "metadata": {
        "id": "MQxBbIllOGPS"
      },
      "source": [
        "Para o perfil de Cientista de Dados, a ferramenta de Visualização de Dados Power BI da Microsoft está entre a mais usada."
      ]
    },
    {
      "cell_type": "code",
      "metadata": {
        "colab": {
          "base_uri": "https://localhost:8080/"
        },
        "id": "J5VddXEmlyo_",
        "outputId": "85cd2fa1-ea12-434c-e27f-1a65f60bd7d2"
      },
      "source": [
        "ads.filter(regex = 'P27').sum().sort_values(ascending = False)/cds.shape[0]"
      ],
      "execution_count": 41,
      "outputs": [
        {
          "output_type": "execute_result",
          "data": {
            "text/plain": [
              "('P27', 'microsoft_powerbi')               0.331606\n",
              "('P27', 'tableau')                         0.202073\n",
              "('P27', 'google_data_studio')              0.165803\n",
              "('P27', 'metabase')                        0.134715\n",
              "('P27', 'only_excel_gsheets')              0.088083\n",
              "('P27', 'other')                           0.062176\n",
              "('P27', 'qlik_view_qlik_sense')            0.062176\n",
              "('P27', 'no_bi_tool_at_work')              0.056995\n",
              "('P27', 'redash')                          0.031088\n",
              "('P27', 'sap_business_objects')            0.020725\n",
              "('P27', 'ibm_analytics_cognos')            0.020725\n",
              "('P27', 'microstrategy')                   0.020725\n",
              "('P27', 'superset')                        0.020725\n",
              "('P27', 'looker')                          0.010363\n",
              "('P27', 'oracle_business_intelligence')    0.005181\n",
              "('P27', 'birst')                           0.000000\n",
              "dtype: float64"
            ]
          },
          "metadata": {
            "tags": []
          },
          "execution_count": 41
        }
      ]
    },
    {
      "cell_type": "code",
      "metadata": {
        "colab": {
          "base_uri": "https://localhost:8080/"
        },
        "id": "_D4StKFql1PX",
        "outputId": "a3b8df4b-8e53-4d55-9924-ae9527029640"
      },
      "source": [
        "abi.filter(regex = 'P27').sum().sort_values(ascending = False)/cds.shape[0]"
      ],
      "execution_count": 42,
      "outputs": [
        {
          "output_type": "execute_result",
          "data": {
            "text/plain": [
              "('P27', 'microsoft_powerbi')               0.357513\n",
              "('P27', 'tableau')                         0.124352\n",
              "('P27', 'qlik_view_qlik_sense')            0.108808\n",
              "('P27', 'only_excel_gsheets')              0.103627\n",
              "('P27', 'other')                           0.082902\n",
              "('P27', 'metabase')                        0.067358\n",
              "('P27', 'google_data_studio')              0.056995\n",
              "('P27', 'no_bi_tool_at_work')              0.036269\n",
              "('P27', 'microstrategy')                   0.036269\n",
              "('P27', 'sap_business_objects')            0.031088\n",
              "('P27', 'ibm_analytics_cognos')            0.025907\n",
              "('P27', 'superset')                        0.015544\n",
              "('P27', 'oracle_business_intelligence')    0.010363\n",
              "('P27', 'looker')                          0.005181\n",
              "('P27', 'birst')                           0.000000\n",
              "('P27', 'redash')                          0.000000\n",
              "dtype: float64"
            ]
          },
          "metadata": {
            "tags": []
          },
          "execution_count": 42
        }
      ]
    },
    {
      "cell_type": "markdown",
      "metadata": {
        "id": "aB-5k6GdBUBy"
      },
      "source": [
        "Percebe-se que o Analista de Dados usa em média 9% a mais as plataformas Tableau e Google Data Studio que um analista de BI.\n",
        "\n",
        "Já o Power BI da Microsoft tem certa igualdade entre os profissionais, média de 34% de ambos os profissionais usam Power BI."
      ]
    },
    {
      "cell_type": "code",
      "metadata": {
        "colab": {
          "base_uri": "https://localhost:8080/"
        },
        "id": "KHxlICawmLtU",
        "outputId": "1552ede9-b578-4cd4-dc0a-bfc56b4b3a35"
      },
      "source": [
        "pds.filter(regex = 'P27').sum().sort_values(ascending = False)/pds.shape[0]"
      ],
      "execution_count": 43,
      "outputs": [
        {
          "output_type": "execute_result",
          "data": {
            "text/plain": [
              "('P27', 'microsoft_powerbi')               0.307590\n",
              "('P27', 'tableau')                         0.165113\n",
              "('P27', 'metabase')                        0.133156\n",
              "('P27', 'no_bi_tool_at_work')              0.109188\n",
              "('P27', 'google_data_studio')              0.109188\n",
              "('P27', 'qlik_view_qlik_sense')            0.077230\n",
              "('P27', 'only_excel_gsheets')              0.074567\n",
              "('P27', 'other')                           0.063915\n",
              "('P27', 'redash')                          0.026631\n",
              "('P27', 'microstrategy')                   0.023968\n",
              "('P27', 'ibm_analytics_cognos')            0.021305\n",
              "('P27', 'sap_business_objects')            0.015979\n",
              "('P27', 'superset')                        0.015979\n",
              "('P27', 'looker')                          0.013316\n",
              "('P27', 'oracle_business_intelligence')    0.005326\n",
              "('P27', 'birst')                           0.001332\n",
              "dtype: float64"
            ]
          },
          "metadata": {
            "tags": []
          },
          "execution_count": 43
        }
      ]
    },
    {
      "cell_type": "markdown",
      "metadata": {
        "id": "lKpJtRDaOUxx"
      },
      "source": [
        "Em nosso dataset evidenciamos que a ferramenta Power BI é a dominante entre os profissionais de dados com praticamente o dobro de usuários do que o segundo colocado Tableau.\n",
        "\n",
        "Isso mostra que o mercado tem por aderencia por determinada plataforma, podendo ser um ponto de partida para um estudo de viabilidade para aquelas empresas migrarem para algo que está sendo tendência e predominância de  mercado.\n",
        "\n",
        "De forma sucinta, o profissional de dados tem uma vasta oportunidadee para aprender Power BI com diversos vídeos na internet, imersões e aulões que o insere no uso e desenvolvimento da ferramenta."
      ]
    },
    {
      "cell_type": "markdown",
      "metadata": {
        "id": "CMrjimtfOtYy"
      },
      "source": [
        "#### **4.4.4 Cursos e Qualificações**\n",
        "\n",
        "A seguir temos as empresas de qualificações que os profissionais de dados recorrem para aprimorar suas habilidades."
      ]
    },
    {
      "cell_type": "code",
      "metadata": {
        "colab": {
          "base_uri": "https://localhost:8080/"
        },
        "id": "j1Cgs1ormfHd",
        "outputId": "88040d2b-3b7b-4e38-bd27-52fd3b45da3b"
      },
      "source": [
        "cds.filter(regex = 'P34').sum().sort_values(ascending = False)/cds.shape[0]"
      ],
      "execution_count": 44,
      "outputs": [
        {
          "output_type": "execute_result",
          "data": {
            "text/plain": [
              "('P34', 'udemy')             0.663212\n",
              "('P34', 'coursera')          0.632124\n",
              "('P34', 'udacity')           0.487047\n",
              "('P34', 'data_camp')         0.393782\n",
              "('P34', 'edx')               0.300518\n",
              "('P34', 'kaggle_learn')      0.295337\n",
              "('P34', 'height')            0.129534\n",
              "('P34', 'online_courses')    0.056995\n",
              "('P34', 'other')             0.046632\n",
              "('P34', 'data_quest')        0.046632\n",
              "dtype: float64"
            ]
          },
          "metadata": {
            "tags": []
          },
          "execution_count": 44
        }
      ]
    },
    {
      "cell_type": "code",
      "metadata": {
        "colab": {
          "base_uri": "https://localhost:8080/"
        },
        "id": "mBTpIPa3pWoM",
        "outputId": "221a68e6-0e09-4482-b987-5e43fac83efb"
      },
      "source": [
        "ads.filter(regex = 'P34').sum().sort_values(ascending = False)/cds.shape[0]"
      ],
      "execution_count": 45,
      "outputs": [
        {
          "output_type": "execute_result",
          "data": {
            "text/plain": [
              "('P34', 'udemy')             0.626943\n",
              "('P34', 'coursera')          0.367876\n",
              "('P34', 'udacity')           0.279793\n",
              "('P34', 'data_camp')         0.186528\n",
              "('P34', 'kaggle_learn')      0.176166\n",
              "('P34', 'other')             0.150259\n",
              "('P34', 'height')            0.145078\n",
              "('P34', 'edx')               0.113990\n",
              "('P34', 'online_courses')    0.051813\n",
              "('P34', 'data_quest')        0.031088\n",
              "dtype: float64"
            ]
          },
          "metadata": {
            "tags": []
          },
          "execution_count": 45
        }
      ]
    },
    {
      "cell_type": "code",
      "metadata": {
        "colab": {
          "base_uri": "https://localhost:8080/"
        },
        "id": "EXmFFnQrpX9T",
        "outputId": "a338c90d-b03b-43bc-bca2-2723311722ae"
      },
      "source": [
        "abi.filter(regex = 'P34').sum().sort_values(ascending = False)/cds.shape[0]"
      ],
      "execution_count": 46,
      "outputs": [
        {
          "output_type": "execute_result",
          "data": {
            "text/plain": [
              "('P34', 'udemy')             0.922280\n",
              "('P34', 'udacity')           0.352332\n",
              "('P34', 'coursera')          0.326425\n",
              "('P34', 'height')            0.248705\n",
              "('P34', 'other')             0.243523\n",
              "('P34', 'kaggle_learn')      0.212435\n",
              "('P34', 'data_camp')         0.202073\n",
              "('P34', 'edx')               0.150259\n",
              "('P34', 'online_courses')    0.108808\n",
              "('P34', 'data_quest')        0.046632\n",
              "dtype: float64"
            ]
          },
          "metadata": {
            "tags": []
          },
          "execution_count": 46
        }
      ]
    },
    {
      "cell_type": "code",
      "metadata": {
        "colab": {
          "base_uri": "https://localhost:8080/"
        },
        "id": "gbq60p5jmgSj",
        "outputId": "35883b01-0c64-4eda-9c79-3de556189f24"
      },
      "source": [
        "pds.filter(regex = 'P34').sum().sort_values(ascending = False)/pds.shape[0]"
      ],
      "execution_count": 47,
      "outputs": [
        {
          "output_type": "execute_result",
          "data": {
            "text/plain": [
              "('P34', 'udemy')             0.697736\n",
              "('P34', 'coursera')          0.415446\n",
              "('P34', 'udacity')           0.348868\n",
              "('P34', 'data_camp')         0.235686\n",
              "('P34', 'kaggle_learn')      0.193076\n",
              "('P34', 'height')            0.183755\n",
              "('P34', 'edx')               0.165113\n",
              "('P34', 'other')             0.129161\n",
              "('P34', 'online_courses')    0.074567\n",
              "('P34', 'data_quest')        0.038615\n",
              "dtype: float64"
            ]
          },
          "metadata": {
            "tags": []
          },
          "execution_count": 47
        }
      ]
    },
    {
      "cell_type": "markdown",
      "metadata": {
        "id": "rcgXRXtXPAIh"
      },
      "source": [
        "Tanto para um cientista de Dados, como para todos os profissionais de dados de forma geral, tanto Udemy e Coursera, são as plataformas predominantes ao se buscar qualificações profissionais.\n",
        "\n",
        "Para empresas que desejam que seus atuais profissionais se qualifiquem, podem fazer um estudo com seus departamentos de RH para trilha de cursos nessas plataformas como parte do pacote de benefícios, ou através de bonificação ou mesmo uma gameficiação interna."
      ]
    },
    {
      "cell_type": "markdown",
      "metadata": {
        "id": "eZS69XcsRLZ5"
      },
      "source": [
        "## **Conclusão**\n",
        "\n",
        "A profissão na área Dados como conhecemos hoje é recente e muitas terminologias de cargos se assemelham, mas ao explorar as nuances de cada um, observa-se que:\n",
        "Um Cientista de Dados tem um foco maior em métodos preditivos e no uso da linguagem de programação.\n",
        "\n",
        "Um processo de contratação pode ser melhor direcionado ao analisar as sutilezas que cada profissional listado possui e melhor definir qual a necessidade da empresa sobre o tipo do profissional.\n",
        "\n",
        "Um indivíduo que deseja conhecer e/ou entrar na área, pode ter um bom ponto de partida através desses dados para se situar no quesito preparo e planejamento de carreira.\n",
        "\n",
        "O foco deste notebook é explorar os dados pelos conceitos do EDA, mas existe mais coisas que podem ser trabalhadas já nos modelos de machine learning."
      ]
    }
  ]
}